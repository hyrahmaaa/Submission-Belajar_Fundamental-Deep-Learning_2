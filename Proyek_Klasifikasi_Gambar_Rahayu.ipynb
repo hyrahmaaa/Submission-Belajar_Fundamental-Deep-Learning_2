{
  "cells": [
    {
      "cell_type": "markdown",
      "metadata": {
        "id": "view-in-github",
        "colab_type": "text"
      },
      "source": [
        "<a href=\"https://colab.research.google.com/github/hyrahmaaa/Submission-Belajar_Fundamental-Deep-Learning_2/blob/main/Proyek_Klasifikasi_Gambar_Rahayu.ipynb\" target=\"_parent\"><img src=\"https://colab.research.google.com/assets/colab-badge.svg\" alt=\"Open In Colab\"/></a>"
      ]
    },
    {
      "cell_type": "markdown",
      "metadata": {
        "id": "H9wADwK78DCz"
      },
      "source": [
        "# Proyek Klasifikasi Gambar: [IndoHerb Classifier]\n",
        "- **Nama:** Rahayu Nur Rahmawati\n",
        "- **Email:** a229xbm406@devacademy.id\n",
        "- **ID Dicoding:** A229XBM406\n",
        "\n",
        "Data yang digunakan adalah data dari Kaggle pada URL : https://www.kaggle.com/datasets/somilyadav999/indoherb\n",
        "\n",
        "\n",
        "*   Banyak jenis gambar : 100 jenis gambar tanaman herbal Indonesia\n",
        "*   Total item pada tiap jenis : 100 items dengan total menjadi 10.000 items\n",
        "\n",
        "Namun, data yang akan digunakan hanya berjumlah 50 jenis gambar dengan masing-masing 100 items.\n"
      ]
    },
    {
      "cell_type": "markdown",
      "metadata": {
        "id": "H-z4QGlO8DC1"
      },
      "source": [
        "## Import Semua Packages/Library yang Digunakan"
      ]
    },
    {
      "cell_type": "code",
      "execution_count": null,
      "metadata": {
        "id": "FVYwaObI8DC1",
        "colab": {
          "base_uri": "https://localhost:8080/"
        },
        "outputId": "17cff173-ed9b-4871-ccae-4174d8901ad9"
      },
      "outputs": [
        {
          "output_type": "stream",
          "name": "stdout",
          "text": [
            "Collecting tensorflow\n",
            "  Downloading tensorflow-2.19.0-cp311-cp311-manylinux_2_17_x86_64.manylinux2014_x86_64.whl.metadata (4.1 kB)\n",
            "Requirement already satisfied: absl-py>=1.0.0 in /usr/local/lib/python3.11/dist-packages (from tensorflow) (1.4.0)\n",
            "Collecting astunparse>=1.6.0 (from tensorflow)\n",
            "  Downloading astunparse-1.6.3-py2.py3-none-any.whl.metadata (4.4 kB)\n",
            "Collecting flatbuffers>=24.3.25 (from tensorflow)\n",
            "  Downloading flatbuffers-25.2.10-py2.py3-none-any.whl.metadata (875 bytes)\n",
            "Requirement already satisfied: gast!=0.5.0,!=0.5.1,!=0.5.2,>=0.2.1 in /usr/local/lib/python3.11/dist-packages (from tensorflow) (0.6.0)\n",
            "Collecting google-pasta>=0.1.1 (from tensorflow)\n",
            "  Downloading google_pasta-0.2.0-py3-none-any.whl.metadata (814 bytes)\n",
            "Collecting libclang>=13.0.0 (from tensorflow)\n",
            "  Downloading libclang-18.1.1-py2.py3-none-manylinux2010_x86_64.whl.metadata (5.2 kB)\n",
            "Requirement already satisfied: opt-einsum>=2.3.2 in /usr/local/lib/python3.11/dist-packages (from tensorflow) (3.4.0)\n",
            "Requirement already satisfied: packaging in /usr/local/lib/python3.11/dist-packages (from tensorflow) (25.0)\n",
            "Requirement already satisfied: protobuf!=4.21.0,!=4.21.1,!=4.21.2,!=4.21.3,!=4.21.4,!=4.21.5,<6.0.0dev,>=3.20.3 in /usr/local/lib/python3.11/dist-packages (from tensorflow) (5.29.4)\n",
            "Requirement already satisfied: requests<3,>=2.21.0 in /usr/local/lib/python3.11/dist-packages (from tensorflow) (2.32.3)\n",
            "Requirement already satisfied: setuptools in /usr/local/lib/python3.11/dist-packages (from tensorflow) (75.2.0)\n",
            "Requirement already satisfied: six>=1.12.0 in /usr/local/lib/python3.11/dist-packages (from tensorflow) (1.17.0)\n",
            "Requirement already satisfied: termcolor>=1.1.0 in /usr/local/lib/python3.11/dist-packages (from tensorflow) (3.1.0)\n",
            "Requirement already satisfied: typing-extensions>=3.6.6 in /usr/local/lib/python3.11/dist-packages (from tensorflow) (4.13.2)\n",
            "Requirement already satisfied: wrapt>=1.11.0 in /usr/local/lib/python3.11/dist-packages (from tensorflow) (1.17.2)\n",
            "Requirement already satisfied: grpcio<2.0,>=1.24.3 in /usr/local/lib/python3.11/dist-packages (from tensorflow) (1.71.0)\n",
            "Collecting tensorboard~=2.19.0 (from tensorflow)\n",
            "  Downloading tensorboard-2.19.0-py3-none-any.whl.metadata (1.8 kB)\n",
            "Requirement already satisfied: keras>=3.5.0 in /usr/local/lib/python3.11/dist-packages (from tensorflow) (3.8.0)\n",
            "Requirement already satisfied: numpy<2.2.0,>=1.26.0 in /usr/local/lib/python3.11/dist-packages (from tensorflow) (2.0.2)\n",
            "Requirement already satisfied: h5py>=3.11.0 in /usr/local/lib/python3.11/dist-packages (from tensorflow) (3.13.0)\n",
            "Requirement already satisfied: ml-dtypes<1.0.0,>=0.5.1 in /usr/local/lib/python3.11/dist-packages (from tensorflow) (0.5.1)\n",
            "Collecting tensorflow-io-gcs-filesystem>=0.23.1 (from tensorflow)\n",
            "  Downloading tensorflow_io_gcs_filesystem-0.37.1-cp311-cp311-manylinux_2_17_x86_64.manylinux2014_x86_64.whl.metadata (14 kB)\n",
            "Collecting wheel<1.0,>=0.23.0 (from astunparse>=1.6.0->tensorflow)\n",
            "  Downloading wheel-0.45.1-py3-none-any.whl.metadata (2.3 kB)\n",
            "Requirement already satisfied: rich in /usr/local/lib/python3.11/dist-packages (from keras>=3.5.0->tensorflow) (14.0.0)\n",
            "Requirement already satisfied: namex in /usr/local/lib/python3.11/dist-packages (from keras>=3.5.0->tensorflow) (0.0.9)\n",
            "Requirement already satisfied: optree in /usr/local/lib/python3.11/dist-packages (from keras>=3.5.0->tensorflow) (0.15.0)\n",
            "Requirement already satisfied: charset-normalizer<4,>=2 in /usr/local/lib/python3.11/dist-packages (from requests<3,>=2.21.0->tensorflow) (3.4.2)\n",
            "Requirement already satisfied: idna<4,>=2.5 in /usr/local/lib/python3.11/dist-packages (from requests<3,>=2.21.0->tensorflow) (3.10)\n",
            "Requirement already satisfied: urllib3<3,>=1.21.1 in /usr/local/lib/python3.11/dist-packages (from requests<3,>=2.21.0->tensorflow) (2.4.0)\n",
            "Requirement already satisfied: certifi>=2017.4.17 in /usr/local/lib/python3.11/dist-packages (from requests<3,>=2.21.0->tensorflow) (2025.4.26)\n",
            "Requirement already satisfied: markdown>=2.6.8 in /usr/lib/python3/dist-packages (from tensorboard~=2.19.0->tensorflow) (3.3.6)\n",
            "Collecting tensorboard-data-server<0.8.0,>=0.7.0 (from tensorboard~=2.19.0->tensorflow)\n",
            "  Downloading tensorboard_data_server-0.7.2-py3-none-manylinux_2_31_x86_64.whl.metadata (1.1 kB)\n",
            "Collecting werkzeug>=1.0.1 (from tensorboard~=2.19.0->tensorflow)\n",
            "  Downloading werkzeug-3.1.3-py3-none-any.whl.metadata (3.7 kB)\n",
            "Requirement already satisfied: MarkupSafe>=2.1.1 in /usr/local/lib/python3.11/dist-packages (from werkzeug>=1.0.1->tensorboard~=2.19.0->tensorflow) (3.0.2)\n",
            "Requirement already satisfied: markdown-it-py>=2.2.0 in /usr/local/lib/python3.11/dist-packages (from rich->keras>=3.5.0->tensorflow) (3.0.0)\n",
            "Requirement already satisfied: pygments<3.0.0,>=2.13.0 in /usr/local/lib/python3.11/dist-packages (from rich->keras>=3.5.0->tensorflow) (2.19.1)\n",
            "Requirement already satisfied: mdurl~=0.1 in /usr/local/lib/python3.11/dist-packages (from markdown-it-py>=2.2.0->rich->keras>=3.5.0->tensorflow) (0.1.2)\n",
            "Downloading tensorflow-2.19.0-cp311-cp311-manylinux_2_17_x86_64.manylinux2014_x86_64.whl (644.9 MB)\n",
            "\u001b[2K   \u001b[90m━━━━━━━━━━━━━━━━━━━━━━━━━━━━━━━━━━━━━━━━\u001b[0m \u001b[32m644.9/644.9 MB\u001b[0m \u001b[31m1.6 MB/s\u001b[0m eta \u001b[36m0:00:00\u001b[0m\n",
            "\u001b[?25hDownloading astunparse-1.6.3-py2.py3-none-any.whl (12 kB)\n",
            "Downloading flatbuffers-25.2.10-py2.py3-none-any.whl (30 kB)\n",
            "Downloading google_pasta-0.2.0-py3-none-any.whl (57 kB)\n",
            "\u001b[2K   \u001b[90m━━━━━━━━━━━━━━━━━━━━━━━━━━━━━━━━━━━━━━━━\u001b[0m \u001b[32m57.5/57.5 kB\u001b[0m \u001b[31m4.0 MB/s\u001b[0m eta \u001b[36m0:00:00\u001b[0m\n",
            "\u001b[?25hDownloading libclang-18.1.1-py2.py3-none-manylinux2010_x86_64.whl (24.5 MB)\n",
            "\u001b[2K   \u001b[90m━━━━━━━━━━━━━━━━━━━━━━━━━━━━━━━━━━━━━━━━\u001b[0m \u001b[32m24.5/24.5 MB\u001b[0m \u001b[31m26.5 MB/s\u001b[0m eta \u001b[36m0:00:00\u001b[0m\n",
            "\u001b[?25hDownloading tensorboard-2.19.0-py3-none-any.whl (5.5 MB)\n",
            "\u001b[2K   \u001b[90m━━━━━━━━━━━━━━━━━━━━━━━━━━━━━━━━━━━━━━━━\u001b[0m \u001b[32m5.5/5.5 MB\u001b[0m \u001b[31m31.3 MB/s\u001b[0m eta \u001b[36m0:00:00\u001b[0m\n",
            "\u001b[?25hDownloading tensorflow_io_gcs_filesystem-0.37.1-cp311-cp311-manylinux_2_17_x86_64.manylinux2014_x86_64.whl (5.1 MB)\n",
            "\u001b[2K   \u001b[90m━━━━━━━━━━━━━━━━━━━━━━━━━━━━━━━━━━━━━━━━\u001b[0m \u001b[32m5.1/5.1 MB\u001b[0m \u001b[31m31.4 MB/s\u001b[0m eta \u001b[36m0:00:00\u001b[0m\n",
            "\u001b[?25hDownloading tensorboard_data_server-0.7.2-py3-none-manylinux_2_31_x86_64.whl (6.6 MB)\n",
            "\u001b[2K   \u001b[90m━━━━━━━━━━━━━━━━━━━━━━━━━━━━━━━━━━━━━━━━\u001b[0m \u001b[32m6.6/6.6 MB\u001b[0m \u001b[31m32.4 MB/s\u001b[0m eta \u001b[36m0:00:00\u001b[0m\n",
            "\u001b[?25hDownloading werkzeug-3.1.3-py3-none-any.whl (224 kB)\n",
            "\u001b[2K   \u001b[90m━━━━━━━━━━━━━━━━━━━━━━━━━━━━━━━━━━━━━━━━\u001b[0m \u001b[32m224.5/224.5 kB\u001b[0m \u001b[31m14.0 MB/s\u001b[0m eta \u001b[36m0:00:00\u001b[0m\n",
            "\u001b[?25hDownloading wheel-0.45.1-py3-none-any.whl (72 kB)\n",
            "\u001b[2K   \u001b[90m━━━━━━━━━━━━━━━━━━━━━━━━━━━━━━━━━━━━━━━━\u001b[0m \u001b[32m72.5/72.5 kB\u001b[0m \u001b[31m4.8 MB/s\u001b[0m eta \u001b[36m0:00:00\u001b[0m\n",
            "\u001b[?25hInstalling collected packages: libclang, flatbuffers, wheel, werkzeug, tensorflow-io-gcs-filesystem, tensorboard-data-server, google-pasta, tensorboard, astunparse, tensorflow\n",
            "Successfully installed astunparse-1.6.3 flatbuffers-25.2.10 google-pasta-0.2.0 libclang-18.1.1 tensorboard-2.19.0 tensorboard-data-server-0.7.2 tensorflow-2.19.0 tensorflow-io-gcs-filesystem-0.37.1 werkzeug-3.1.3 wheel-0.45.1\n",
            "Requirement already satisfied: opencv-python in /usr/local/lib/python3.11/dist-packages (4.11.0.86)\n",
            "Requirement already satisfied: numpy>=1.21.2 in /usr/local/lib/python3.11/dist-packages (from opencv-python) (2.0.2)\n"
          ]
        }
      ],
      "source": [
        "!pip install tensorflow\n",
        "!pip install opencv-python\n",
        "import os, shutil\n",
        "import zipfile\n",
        "import random\n",
        "from random import sample\n",
        "import shutil\n",
        "from shutil import copyfile\n",
        "import pathlib\n",
        "from pathlib import Path\n",
        "import numpy as np\n",
        "import pandas as pd\n",
        "from tqdm.notebook import tqdm as tq\n",
        "import cv2\n",
        "from PIL import Image\n",
        "import skimage\n",
        "from skimage import io\n",
        "from skimage.transform import resize\n",
        "from skimage.transform import rotate, AffineTransform, warp\n",
        "from skimage import img_as_ubyte\n",
        "from skimage.exposure import adjust_gamma\n",
        "from skimage.util import random_noise\n",
        "import keras\n",
        "from sklearn.model_selection import train_test_split\n",
        "from sklearn.metrics import confusion_matrix, classification_report\n",
        "import tensorflow as tf\n",
        "from tensorflow.keras import Model, layers\n",
        "from tensorflow.keras.preprocessing import image\n",
        "from tensorflow.keras.preprocessing.image import ImageDataGenerator, img_to_array, load_img\n",
        "from tensorflow.keras.optimizers import Adam, RMSprop, SGD\n",
        "from tensorflow.keras.layers import InputLayer, Conv2D, SeparableConv2D, MaxPooling2D, MaxPool2D, Dense, Flatten, Dropout, BatchNormalization\n",
        "from tensorflow.keras.models import Sequential, Model\n",
        "from tensorflow.keras.applications import MobileNet\n",
        "from tensorflow.keras.applications.densenet import DenseNet121\n",
        "from tensorflow.keras.utils import to_categorical\n",
        "from tensorflow.keras.applications import MobileNetV2  # Atau model pre-trained lain\n",
        "from tensorflow.keras.callbacks import ModelCheckpoint, Callback, EarlyStopping, ReduceLROnPlateau\n",
        "import warnings\n",
        "warnings.simplefilter(action='ignore', category=FutureWarning)\n",
        "import matplotlib.pyplot as plt\n",
        "import numpy as np\n",
        "import shutil\n",
        "import os\n",
        "import seaborn as sns\n",
        "from google.colab import files\n",
        "from tensorflow.keras.regularizers import l2"
      ]
    },
    {
      "cell_type": "markdown",
      "metadata": {
        "id": "TK4DvqfbYrN8"
      },
      "source": [
        "## Data Preparation"
      ]
    },
    {
      "cell_type": "markdown",
      "metadata": {
        "id": "HHekw29KX4XQ"
      },
      "source": [
        "### Data Loading"
      ]
    },
    {
      "cell_type": "code",
      "source": [
        "! chmod 600 /content/kaggle.json"
      ],
      "metadata": {
        "colab": {
          "base_uri": "https://localhost:8080/"
        },
        "id": "nn4SJlIly7vh",
        "outputId": "441de172-7e02-4e76-8dbc-21924ad2057d"
      },
      "execution_count": null,
      "outputs": [
        {
          "output_type": "stream",
          "name": "stdout",
          "text": [
            "chmod: cannot access '/content/kaggle.json': No such file or directory\n"
          ]
        }
      ]
    },
    {
      "cell_type": "code",
      "source": [
        "! KAGGLE_CONFIG_DIR=/content/"
      ],
      "metadata": {
        "id": "GycWqYST0GIZ"
      },
      "execution_count": null,
      "outputs": []
    },
    {
      "cell_type": "code",
      "source": [
        "import zipfile\n",
        "zip_file = '/content/indoherb.zip'\n",
        "zip_ref = zipfile.ZipFile(zip_file, 'r')\n",
        "zip_ref.extractall('/content/')\n",
        "zip_ref.close()"
      ],
      "metadata": {
        "colab": {
          "base_uri": "https://localhost:8080/",
          "height": 349
        },
        "id": "eFR_ggI70LOx",
        "outputId": "f594689f-ab94-4818-91ce-90b711ff585a"
      },
      "execution_count": null,
      "outputs": [
        {
          "output_type": "error",
          "ename": "FileNotFoundError",
          "evalue": "[Errno 2] No such file or directory: '/content/indoherb.zip'",
          "traceback": [
            "\u001b[0;31m---------------------------------------------------------------------------\u001b[0m",
            "\u001b[0;31mFileNotFoundError\u001b[0m                         Traceback (most recent call last)",
            "\u001b[0;32m<ipython-input-18-2c1ccf12a40b>\u001b[0m in \u001b[0;36m<cell line: 0>\u001b[0;34m()\u001b[0m\n\u001b[1;32m      1\u001b[0m \u001b[0;32mimport\u001b[0m \u001b[0mzipfile\u001b[0m\u001b[0;34m\u001b[0m\u001b[0;34m\u001b[0m\u001b[0m\n\u001b[1;32m      2\u001b[0m \u001b[0mzip_file\u001b[0m \u001b[0;34m=\u001b[0m \u001b[0;34m'/content/indoherb.zip'\u001b[0m\u001b[0;34m\u001b[0m\u001b[0;34m\u001b[0m\u001b[0m\n\u001b[0;32m----> 3\u001b[0;31m \u001b[0mzip_ref\u001b[0m \u001b[0;34m=\u001b[0m \u001b[0mzipfile\u001b[0m\u001b[0;34m.\u001b[0m\u001b[0mZipFile\u001b[0m\u001b[0;34m(\u001b[0m\u001b[0mzip_file\u001b[0m\u001b[0;34m,\u001b[0m \u001b[0;34m'r'\u001b[0m\u001b[0;34m)\u001b[0m\u001b[0;34m\u001b[0m\u001b[0;34m\u001b[0m\u001b[0m\n\u001b[0m\u001b[1;32m      4\u001b[0m \u001b[0mzip_ref\u001b[0m\u001b[0;34m.\u001b[0m\u001b[0mextractall\u001b[0m\u001b[0;34m(\u001b[0m\u001b[0;34m'/content/'\u001b[0m\u001b[0;34m)\u001b[0m\u001b[0;34m\u001b[0m\u001b[0;34m\u001b[0m\u001b[0m\n\u001b[1;32m      5\u001b[0m \u001b[0mzip_ref\u001b[0m\u001b[0;34m.\u001b[0m\u001b[0mclose\u001b[0m\u001b[0;34m(\u001b[0m\u001b[0;34m)\u001b[0m\u001b[0;34m\u001b[0m\u001b[0;34m\u001b[0m\u001b[0m\n",
            "\u001b[0;32m/usr/lib/python3.11/zipfile.py\u001b[0m in \u001b[0;36m__init__\u001b[0;34m(self, file, mode, compression, allowZip64, compresslevel, strict_timestamps, metadata_encoding)\u001b[0m\n\u001b[1;32m   1293\u001b[0m             \u001b[0;32mwhile\u001b[0m \u001b[0;32mTrue\u001b[0m\u001b[0;34m:\u001b[0m\u001b[0;34m\u001b[0m\u001b[0;34m\u001b[0m\u001b[0m\n\u001b[1;32m   1294\u001b[0m                 \u001b[0;32mtry\u001b[0m\u001b[0;34m:\u001b[0m\u001b[0;34m\u001b[0m\u001b[0;34m\u001b[0m\u001b[0m\n\u001b[0;32m-> 1295\u001b[0;31m                     \u001b[0mself\u001b[0m\u001b[0;34m.\u001b[0m\u001b[0mfp\u001b[0m \u001b[0;34m=\u001b[0m \u001b[0mio\u001b[0m\u001b[0;34m.\u001b[0m\u001b[0mopen\u001b[0m\u001b[0;34m(\u001b[0m\u001b[0mfile\u001b[0m\u001b[0;34m,\u001b[0m \u001b[0mfilemode\u001b[0m\u001b[0;34m)\u001b[0m\u001b[0;34m\u001b[0m\u001b[0;34m\u001b[0m\u001b[0m\n\u001b[0m\u001b[1;32m   1296\u001b[0m                 \u001b[0;32mexcept\u001b[0m \u001b[0mOSError\u001b[0m\u001b[0;34m:\u001b[0m\u001b[0;34m\u001b[0m\u001b[0;34m\u001b[0m\u001b[0m\n\u001b[1;32m   1297\u001b[0m                     \u001b[0;32mif\u001b[0m \u001b[0mfilemode\u001b[0m \u001b[0;32min\u001b[0m \u001b[0mmodeDict\u001b[0m\u001b[0;34m:\u001b[0m\u001b[0;34m\u001b[0m\u001b[0;34m\u001b[0m\u001b[0m\n",
            "\u001b[0;31mFileNotFoundError\u001b[0m: [Errno 2] No such file or directory: '/content/indoherb.zip'"
          ]
        }
      ]
    },
    {
      "cell_type": "code",
      "execution_count": null,
      "metadata": {
        "id": "lsSfVtgC09MM"
      },
      "outputs": [],
      "source": [
        "class myCallback(tf.keras.callbacks.Callback):\n",
        "  def on_epoch_end(self, epoch, logs={}):\n",
        "    if(logs.get('accuracy') > 0.97):\n",
        "      print(\"\\nAkurasi melewati 97%, hentikan proses training!\")\n",
        "      self.model.stop_training = True\n",
        "\n",
        "callbacks = myCallback()"
      ]
    },
    {
      "cell_type": "markdown",
      "metadata": {
        "id": "pdAg_US020F6"
      },
      "source": [
        "Penggunaan Callback mencegah overfitting dan menghentikan training setelah akurasi terpenuhi"
      ]
    },
    {
      "cell_type": "code",
      "source": [
        "# Dictionary untuk menampung gambar\n",
        "indoherb_images = {}\n",
        "\n",
        "# Path ke folder dataset\n",
        "path = \"indoherb\"\n",
        "selected_classes = [\n",
        "    'Abelmoschus Esculentus (Okra)',\n",
        "    'Acorus Calamus (Dlingo)',\n",
        "    'Aloe Vera (Lidah Buaya)',\n",
        "    'Alstonia Scholaris (Pulai)',\n",
        "    'Amaranthus Spinosus (Bayam Duri)',\n",
        "    'Andrographis Paniculata (Sambiloto)',\n",
        "    'Annona Muricata (Sirsak)',\n",
        "    'Annona Squamosa (Srikaya)',\n",
        "    'Anredera Cordifolia (Binahong)',\n",
        "    'Apium Graveolens (Seledri)',\n",
        "    'Artocarpus Heterophyllus (Nangka Mini)',\n",
        "    'Artocarpus Integer (Nangka Cempedak)',\n",
        "    'Averrhoa Bilimbi (Belimbing Wuluh)',\n",
        "    'Blumea Balsamifera (Sembung)',\n",
        "    'Borreria Hispida (Gempur Batu)',\n",
        "    'Caesalpinia Sappan L (Secang)',\n",
        "    'Caladium Cicolor (Keladi)',\n",
        "    'Calendula Officinalis (Marigold)',\n",
        "    'Canangium Odoratum (Kenanga)',\n",
        "    'Catharanthus Roseus (Tapak Dara)'\n",
        "]\n",
        "\n",
        "\n",
        "# Looping untuk setiap kelas yang dipilih\n",
        "for class_name in selected_classes:\n",
        "    class_dir = os.path.join(path, class_name)\n",
        "    if os.path.isdir(class_dir):\n",
        "        image_files = [f for f in os.listdir(class_dir) if f.lower().endswith(('.jpg', '.jpeg', '.png'))]\n",
        "        indoherb_images[class_name] = image_files\n",
        "    else:\n",
        "        print(f\"Kelas {class_name} tidak ditemukan dalam dataset.\")\n",
        "\n",
        "# Setup figure\n",
        "fig, axs = plt.subplots(len(indoherb_images), 5, figsize=(15, 3 * len(indoherb_images)))\n",
        "\n",
        "# Looping kelas dan gambar\n",
        "for i, (class_name, image_list) in enumerate(indoherb_images.items()):\n",
        "    if len(image_list) == 0:\n",
        "        print(f\"Tidak ada gambar dalam kelas: {class_name}\")\n",
        "        continue\n",
        "\n",
        "    # Ambil 5 gambar random\n",
        "    images = np.random.choice(image_list, 5, replace=False)\n",
        "\n",
        "    for j, image_name in enumerate(images):\n",
        "        img_path = os.path.join(path, class_name, image_name)\n",
        "        img = Image.open(img_path).convert('RGB')\n",
        "        axs[i, j].imshow(img)\n",
        "        axs[i, j].set_title(class_name)\n",
        "        axs[i, j].axis('off')\n",
        "\n",
        "plt.tight_layout()\n",
        "plt.show()\n"
      ],
      "metadata": {
        "colab": {
          "base_uri": "https://localhost:8080/",
          "height": 773
        },
        "id": "08z-jtZpuQGk",
        "outputId": "76c2f037-dfd4-495d-e3ef-01136bccdd56"
      },
      "execution_count": null,
      "outputs": [
        {
          "output_type": "stream",
          "name": "stdout",
          "text": [
            "Kelas Abelmoschus Esculentus (Okra) tidak ditemukan dalam dataset.\n",
            "Kelas Acorus Calamus (Dlingo) tidak ditemukan dalam dataset.\n",
            "Kelas Aloe Vera (Lidah Buaya) tidak ditemukan dalam dataset.\n",
            "Kelas Alstonia Scholaris (Pulai) tidak ditemukan dalam dataset.\n",
            "Kelas Amaranthus Spinosus (Bayam Duri) tidak ditemukan dalam dataset.\n",
            "Kelas Andrographis Paniculata (Sambiloto) tidak ditemukan dalam dataset.\n",
            "Kelas Annona Muricata (Sirsak) tidak ditemukan dalam dataset.\n",
            "Kelas Annona Squamosa (Srikaya) tidak ditemukan dalam dataset.\n",
            "Kelas Anredera Cordifolia (Binahong) tidak ditemukan dalam dataset.\n",
            "Kelas Apium Graveolens (Seledri) tidak ditemukan dalam dataset.\n",
            "Kelas Artocarpus Heterophyllus (Nangka Mini) tidak ditemukan dalam dataset.\n",
            "Kelas Artocarpus Integer (Nangka Cempedak) tidak ditemukan dalam dataset.\n",
            "Kelas Averrhoa Bilimbi (Belimbing Wuluh) tidak ditemukan dalam dataset.\n",
            "Kelas Blumea Balsamifera (Sembung) tidak ditemukan dalam dataset.\n",
            "Kelas Borreria Hispida (Gempur Batu) tidak ditemukan dalam dataset.\n",
            "Kelas Caesalpinia Sappan L (Secang) tidak ditemukan dalam dataset.\n",
            "Kelas Caladium Cicolor (Keladi) tidak ditemukan dalam dataset.\n",
            "Kelas Calendula Officinalis (Marigold) tidak ditemukan dalam dataset.\n",
            "Kelas Canangium Odoratum (Kenanga) tidak ditemukan dalam dataset.\n",
            "Kelas Catharanthus Roseus (Tapak Dara) tidak ditemukan dalam dataset.\n"
          ]
        },
        {
          "output_type": "error",
          "ename": "ValueError",
          "evalue": "Number of rows must be a positive integer, not 0",
          "traceback": [
            "\u001b[0;31m---------------------------------------------------------------------------\u001b[0m",
            "\u001b[0;31mValueError\u001b[0m                                Traceback (most recent call last)",
            "\u001b[0;32m<ipython-input-15-6f846baaf463>\u001b[0m in \u001b[0;36m<cell line: 0>\u001b[0;34m()\u001b[0m\n\u001b[1;32m     38\u001b[0m \u001b[0;34m\u001b[0m\u001b[0m\n\u001b[1;32m     39\u001b[0m \u001b[0;31m# Setup figure\u001b[0m\u001b[0;34m\u001b[0m\u001b[0;34m\u001b[0m\u001b[0m\n\u001b[0;32m---> 40\u001b[0;31m \u001b[0mfig\u001b[0m\u001b[0;34m,\u001b[0m \u001b[0maxs\u001b[0m \u001b[0;34m=\u001b[0m \u001b[0mplt\u001b[0m\u001b[0;34m.\u001b[0m\u001b[0msubplots\u001b[0m\u001b[0;34m(\u001b[0m\u001b[0mlen\u001b[0m\u001b[0;34m(\u001b[0m\u001b[0mindoherb_images\u001b[0m\u001b[0;34m)\u001b[0m\u001b[0;34m,\u001b[0m \u001b[0;36m5\u001b[0m\u001b[0;34m,\u001b[0m \u001b[0mfigsize\u001b[0m\u001b[0;34m=\u001b[0m\u001b[0;34m(\u001b[0m\u001b[0;36m15\u001b[0m\u001b[0;34m,\u001b[0m \u001b[0;36m3\u001b[0m \u001b[0;34m*\u001b[0m \u001b[0mlen\u001b[0m\u001b[0;34m(\u001b[0m\u001b[0mindoherb_images\u001b[0m\u001b[0;34m)\u001b[0m\u001b[0;34m)\u001b[0m\u001b[0;34m)\u001b[0m\u001b[0;34m\u001b[0m\u001b[0;34m\u001b[0m\u001b[0m\n\u001b[0m\u001b[1;32m     41\u001b[0m \u001b[0;34m\u001b[0m\u001b[0m\n\u001b[1;32m     42\u001b[0m \u001b[0;31m# Looping kelas dan gambar\u001b[0m\u001b[0;34m\u001b[0m\u001b[0;34m\u001b[0m\u001b[0m\n",
            "\u001b[0;32m/usr/local/lib/python3.11/dist-packages/matplotlib/pyplot.py\u001b[0m in \u001b[0;36msubplots\u001b[0;34m(nrows, ncols, sharex, sharey, squeeze, width_ratios, height_ratios, subplot_kw, gridspec_kw, **fig_kw)\u001b[0m\n\u001b[1;32m   1774\u001b[0m     \"\"\"\n\u001b[1;32m   1775\u001b[0m     \u001b[0mfig\u001b[0m \u001b[0;34m=\u001b[0m \u001b[0mfigure\u001b[0m\u001b[0;34m(\u001b[0m\u001b[0;34m**\u001b[0m\u001b[0mfig_kw\u001b[0m\u001b[0;34m)\u001b[0m\u001b[0;34m\u001b[0m\u001b[0;34m\u001b[0m\u001b[0m\n\u001b[0;32m-> 1776\u001b[0;31m     axs = fig.subplots(nrows=nrows, ncols=ncols, sharex=sharex, sharey=sharey,\n\u001b[0m\u001b[1;32m   1777\u001b[0m                        \u001b[0msqueeze\u001b[0m\u001b[0;34m=\u001b[0m\u001b[0msqueeze\u001b[0m\u001b[0;34m,\u001b[0m \u001b[0msubplot_kw\u001b[0m\u001b[0;34m=\u001b[0m\u001b[0msubplot_kw\u001b[0m\u001b[0;34m,\u001b[0m\u001b[0;34m\u001b[0m\u001b[0;34m\u001b[0m\u001b[0m\n\u001b[1;32m   1778\u001b[0m                        \u001b[0mgridspec_kw\u001b[0m\u001b[0;34m=\u001b[0m\u001b[0mgridspec_kw\u001b[0m\u001b[0;34m,\u001b[0m \u001b[0mheight_ratios\u001b[0m\u001b[0;34m=\u001b[0m\u001b[0mheight_ratios\u001b[0m\u001b[0;34m,\u001b[0m\u001b[0;34m\u001b[0m\u001b[0;34m\u001b[0m\u001b[0m\n",
            "\u001b[0;32m/usr/local/lib/python3.11/dist-packages/matplotlib/figure.py\u001b[0m in \u001b[0;36msubplots\u001b[0;34m(self, nrows, ncols, sharex, sharey, squeeze, width_ratios, height_ratios, subplot_kw, gridspec_kw)\u001b[0m\n\u001b[1;32m    916\u001b[0m             \u001b[0mgridspec_kw\u001b[0m\u001b[0;34m[\u001b[0m\u001b[0;34m'width_ratios'\u001b[0m\u001b[0;34m]\u001b[0m \u001b[0;34m=\u001b[0m \u001b[0mwidth_ratios\u001b[0m\u001b[0;34m\u001b[0m\u001b[0;34m\u001b[0m\u001b[0m\n\u001b[1;32m    917\u001b[0m \u001b[0;34m\u001b[0m\u001b[0m\n\u001b[0;32m--> 918\u001b[0;31m         \u001b[0mgs\u001b[0m \u001b[0;34m=\u001b[0m \u001b[0mself\u001b[0m\u001b[0;34m.\u001b[0m\u001b[0madd_gridspec\u001b[0m\u001b[0;34m(\u001b[0m\u001b[0mnrows\u001b[0m\u001b[0;34m,\u001b[0m \u001b[0mncols\u001b[0m\u001b[0;34m,\u001b[0m \u001b[0mfigure\u001b[0m\u001b[0;34m=\u001b[0m\u001b[0mself\u001b[0m\u001b[0;34m,\u001b[0m \u001b[0;34m**\u001b[0m\u001b[0mgridspec_kw\u001b[0m\u001b[0;34m)\u001b[0m\u001b[0;34m\u001b[0m\u001b[0;34m\u001b[0m\u001b[0m\n\u001b[0m\u001b[1;32m    919\u001b[0m         axs = gs.subplots(sharex=sharex, sharey=sharey, squeeze=squeeze,\n\u001b[1;32m    920\u001b[0m                           subplot_kw=subplot_kw)\n",
            "\u001b[0;32m/usr/local/lib/python3.11/dist-packages/matplotlib/figure.py\u001b[0m in \u001b[0;36madd_gridspec\u001b[0;34m(self, nrows, ncols, **kwargs)\u001b[0m\n\u001b[1;32m   1598\u001b[0m \u001b[0;34m\u001b[0m\u001b[0m\n\u001b[1;32m   1599\u001b[0m         \u001b[0m_\u001b[0m \u001b[0;34m=\u001b[0m \u001b[0mkwargs\u001b[0m\u001b[0;34m.\u001b[0m\u001b[0mpop\u001b[0m\u001b[0;34m(\u001b[0m\u001b[0;34m'figure'\u001b[0m\u001b[0;34m,\u001b[0m \u001b[0;32mNone\u001b[0m\u001b[0;34m)\u001b[0m  \u001b[0;31m# pop in case user has added this...\u001b[0m\u001b[0;34m\u001b[0m\u001b[0;34m\u001b[0m\u001b[0m\n\u001b[0;32m-> 1600\u001b[0;31m         \u001b[0mgs\u001b[0m \u001b[0;34m=\u001b[0m \u001b[0mGridSpec\u001b[0m\u001b[0;34m(\u001b[0m\u001b[0mnrows\u001b[0m\u001b[0;34m=\u001b[0m\u001b[0mnrows\u001b[0m\u001b[0;34m,\u001b[0m \u001b[0mncols\u001b[0m\u001b[0;34m=\u001b[0m\u001b[0mncols\u001b[0m\u001b[0;34m,\u001b[0m \u001b[0mfigure\u001b[0m\u001b[0;34m=\u001b[0m\u001b[0mself\u001b[0m\u001b[0;34m,\u001b[0m \u001b[0;34m**\u001b[0m\u001b[0mkwargs\u001b[0m\u001b[0;34m)\u001b[0m\u001b[0;34m\u001b[0m\u001b[0;34m\u001b[0m\u001b[0m\n\u001b[0m\u001b[1;32m   1601\u001b[0m         \u001b[0;32mreturn\u001b[0m \u001b[0mgs\u001b[0m\u001b[0;34m\u001b[0m\u001b[0;34m\u001b[0m\u001b[0m\n\u001b[1;32m   1602\u001b[0m \u001b[0;34m\u001b[0m\u001b[0m\n",
            "\u001b[0;32m/usr/local/lib/python3.11/dist-packages/matplotlib/gridspec.py\u001b[0m in \u001b[0;36m__init__\u001b[0;34m(self, nrows, ncols, figure, left, bottom, right, top, wspace, hspace, width_ratios, height_ratios)\u001b[0m\n\u001b[1;32m    361\u001b[0m         \u001b[0mself\u001b[0m\u001b[0;34m.\u001b[0m\u001b[0mfigure\u001b[0m \u001b[0;34m=\u001b[0m \u001b[0mfigure\u001b[0m\u001b[0;34m\u001b[0m\u001b[0;34m\u001b[0m\u001b[0m\n\u001b[1;32m    362\u001b[0m \u001b[0;34m\u001b[0m\u001b[0m\n\u001b[0;32m--> 363\u001b[0;31m         super().__init__(nrows, ncols,\n\u001b[0m\u001b[1;32m    364\u001b[0m                          \u001b[0mwidth_ratios\u001b[0m\u001b[0;34m=\u001b[0m\u001b[0mwidth_ratios\u001b[0m\u001b[0;34m,\u001b[0m\u001b[0;34m\u001b[0m\u001b[0;34m\u001b[0m\u001b[0m\n\u001b[1;32m    365\u001b[0m                          height_ratios=height_ratios)\n",
            "\u001b[0;32m/usr/local/lib/python3.11/dist-packages/matplotlib/gridspec.py\u001b[0m in \u001b[0;36m__init__\u001b[0;34m(self, nrows, ncols, height_ratios, width_ratios)\u001b[0m\n\u001b[1;32m     46\u001b[0m         \"\"\"\n\u001b[1;32m     47\u001b[0m         \u001b[0;32mif\u001b[0m \u001b[0;32mnot\u001b[0m \u001b[0misinstance\u001b[0m\u001b[0;34m(\u001b[0m\u001b[0mnrows\u001b[0m\u001b[0;34m,\u001b[0m \u001b[0mIntegral\u001b[0m\u001b[0;34m)\u001b[0m \u001b[0;32mor\u001b[0m \u001b[0mnrows\u001b[0m \u001b[0;34m<=\u001b[0m \u001b[0;36m0\u001b[0m\u001b[0;34m:\u001b[0m\u001b[0;34m\u001b[0m\u001b[0;34m\u001b[0m\u001b[0m\n\u001b[0;32m---> 48\u001b[0;31m             raise ValueError(\n\u001b[0m\u001b[1;32m     49\u001b[0m                 f\"Number of rows must be a positive integer, not {nrows!r}\")\n\u001b[1;32m     50\u001b[0m         \u001b[0;32mif\u001b[0m \u001b[0;32mnot\u001b[0m \u001b[0misinstance\u001b[0m\u001b[0;34m(\u001b[0m\u001b[0mncols\u001b[0m\u001b[0;34m,\u001b[0m \u001b[0mIntegral\u001b[0m\u001b[0;34m)\u001b[0m \u001b[0;32mor\u001b[0m \u001b[0mncols\u001b[0m \u001b[0;34m<=\u001b[0m \u001b[0;36m0\u001b[0m\u001b[0;34m:\u001b[0m\u001b[0;34m\u001b[0m\u001b[0;34m\u001b[0m\u001b[0m\n",
            "\u001b[0;31mValueError\u001b[0m: Number of rows must be a positive integer, not 0"
          ]
        },
        {
          "output_type": "display_data",
          "data": {
            "text/plain": [
              "<Figure size 1500x0 with 0 Axes>"
            ]
          },
          "metadata": {}
        }
      ]
    },
    {
      "cell_type": "markdown",
      "metadata": {
        "id": "bFgLyQPHX98s"
      },
      "source": [
        "### Data Preprocessing"
      ]
    },
    {
      "cell_type": "markdown",
      "metadata": {
        "id": "9ICO2-E0YxzD"
      },
      "source": [
        "#### Split Dataset"
      ]
    },
    {
      "cell_type": "code",
      "execution_count": null,
      "metadata": {
        "colab": {
          "base_uri": "https://localhost:8080/"
        },
        "id": "RNBPGZdEiNvc",
        "outputId": "05161213-2c1c-4718-fea7-acbd944e14d8"
      },
      "outputs": [
        {
          "name": "stdout",
          "output_type": "stream",
          "text": [
            "Amaranthus Spinosus (Bayam Duri): 70 train | 20 val | 10 test\n",
            "Piper Sarmentosum (Cabean): 70 train | 20 val | 10 test\n",
            "Ocimum Americanum (Selasih): 70 train | 20 val | 10 test\n",
            "Zingiber Zerumbet (Lempuyang Gajah): 70 train | 20 val | 10 test\n",
            "Cestrum Nocturnum (Sedap Malam): 70 train | 20 val | 10 test\n",
            "Talinum Triangulare (Som Jawa): 70 train | 20 val | 10 test\n",
            "Hydrocotyle Sibthorpioides (Semanggi Gunung): 70 train | 20 val | 10 test\n",
            "Phaleria Macrocarpa (Mahkota Dewa): 70 train | 20 val | 10 test\n",
            "Calendula Officinalis (Marigold): 70 train | 20 val | 10 test\n",
            "Selaginella Doederleinii (Paku Rane): 70 train | 20 val | 10 test\n",
            "Piper Betle (Sirih): 70 train | 20 val | 10 test\n",
            "Michelia Alba (Kembang Kantil): 70 train | 20 val | 10 test\n",
            "Olea Europaea (Zaitun): 70 train | 20 val | 10 test\n",
            "Abelmoschus Esculentus (Okra): 70 train | 20 val | 10 test\n",
            "Canangium Odoratum (Kenanga): 70 train | 20 val | 10 test\n",
            "Vetiveria Zizaniodes (Akar Wangi): 70 train | 20 val | 10 test\n",
            "Pyrus Communis (Pir): 70 train | 20 val | 10 test\n",
            "Prunus Domestica (Plum): 70 train | 20 val | 10 test\n",
            "Averrhoa Bilimbi (Belimbing Wuluh): 70 train | 20 val | 10 test\n",
            "Eupatorium Triplinerve (Prasman): 70 train | 20 val | 10 test\n",
            "Hibiscus Sabdariffa (Rosela): 70 train | 20 val | 10 test\n",
            "Alstonia Scholaris (Pulai): 70 train | 20 val | 10 test\n",
            "Rosmarinus Officinalis (Rosemary): 70 train | 20 val | 10 test\n",
            "Nothopanax Scutellarium (Mangkokan): 70 train | 20 val | 10 test\n",
            "Psidium Guajava (Jambu Biji): 70 train | 20 val | 10 test\n",
            "Desmodium Triquitrum (Daun Duduk): 70 train | 20 val | 10 test\n",
            "Ruellia Tuberosa (Ceplikan): 70 train | 20 val | 10 test\n",
            "Mirabilis Jalapa (Bunga Pukul Empat): 70 train | 20 val | 10 test\n",
            "Plectranthus Scutellarioides (Miana): 70 train | 20 val | 10 test\n",
            "Hibiscus Rosa-sinensis (Kembang Sepatu): 70 train | 20 val | 10 test\n",
            "Morus Alba (Murbei): 70 train | 20 val | 10 test\n",
            "Annona Squamosa (Srikaya): 70 train | 20 val | 10 test\n",
            "Graptophyllum Pictum (Daun Ungu): 70 train | 20 val | 10 test\n",
            "Pouteria Caimito (Abiu): 70 train | 20 val | 10 test\n",
            "Murraya Koenigii (Daun Kari): 70 train | 20 val | 10 test\n",
            "Melaleuca Leucadendra (Kayu Putih): 70 train | 20 val | 10 test\n",
            "Caesalpinia Sappan L (Secang): 70 train | 20 val | 10 test\n",
            "Pandanus Amaryllifolius (Pandan): 70 train | 20 val | 10 test\n",
            "Ruta Angustifolia (Inggu): 70 train | 20 val | 10 test\n",
            "Artocarpus Integer (Nangka Cempedak): 70 train | 20 val | 10 test\n",
            "Phytolacca Americana (Mrico Kepyar): 70 train | 20 val | 10 test\n",
            "Melia Azedarach (Mindi): 70 train | 20 val | 10 test\n",
            "Apium Graveolens (Seledri): 70 train | 20 val | 10 test\n",
            "Blumea Balsamifera (Sembung): 70 train | 20 val | 10 test\n",
            "Parameria Laevigata (Kayu Rapet): 70 train | 20 val | 10 test\n",
            "Clitoria Ternatea (Kembang Telang): 70 train | 20 val | 10 test\n",
            "Vitex Trifolia (Legundi): 70 train | 20 val | 10 test\n",
            "Euphorbia Tirucalli (Patah Tulang): 70 train | 20 val | 10 test\n",
            "Gynura Segetum (Daun Dewa): 70 train | 20 val | 10 test\n",
            "Celosia Cristata (Jengger Ayam): 70 train | 20 val | 10 test\n",
            "Centella Asiatica (Pegagan): 70 train | 20 val | 10 test\n",
            "Annona Muricata (Sirsak): 70 train | 20 val | 10 test\n",
            "Syzygium Polyanthum (Salam): 70 train | 20 val | 10 test\n",
            "Zingiber Officinale (Jahe): 70 train | 20 val | 10 test\n",
            "Artocarpus Heterophyllus (Nangka Mini): 70 train | 20 val | 10 test\n",
            "Euphoria Longan (Kelengkeng): 70 train | 20 val | 10 test\n",
            "Orthosiphon Spicatus (Kumis Kucing): 70 train | 20 val | 10 test\n",
            "Derris Elliptica (Tuba): 70 train | 20 val | 10 test\n",
            "Crinum Asiaticum (Bakung Putih): 70 train | 20 val | 10 test\n",
            "Peperomia Pellucida (Suruhan): 70 train | 20 val | 10 test\n",
            "Citrus Amblycarpa (Jeruk Limau): 70 train | 20 val | 10 test\n",
            "Pleomele Angustifolia (Suji): 70 train | 20 val | 10 test\n",
            "Ocimum Basilicum (Kemangi): 70 train | 20 val | 10 test\n",
            "Tinospora Tuberculata (Brotowali): 70 train | 20 val | 10 test\n",
            "Caladium Cicolor (Keladi): 70 train | 20 val | 10 test\n",
            "Pogostemon Cablin (Nilam): 70 train | 20 val | 10 test\n",
            "Pluchea Indica (Beluntas): 70 train | 20 val | 10 test\n",
            "Cyclea Barbata (Cincau Hijau): 70 train | 20 val | 10 test\n",
            "Catharanthus Roseus (Tapak Dara): 70 train | 20 val | 10 test\n",
            "Eleutherine Americana (Bawang Dayak): 70 train | 20 val | 10 test\n",
            "Physalis Angulata (Ceplukan): 70 train | 20 val | 10 test\n",
            "Houttoynia Cordata (Amis-Amisan): 70 train | 20 val | 10 test\n",
            "Ficus Carica (Tin): 70 train | 20 val | 10 test\n",
            "Impatiens Balsamina (Pacar Air): 70 train | 20 val | 10 test\n",
            "Anredera Cordifolia (Binahong): 70 train | 20 val | 10 test\n",
            "Isotoma Longiflora (Ki Tolod): 70 train | 20 val | 10 test\n",
            "Typhonium Flagelliforme (Keladi Tikus): 70 train | 20 val | 10 test\n",
            "Cymbopogon Nardus (Serai): 70 train | 20 val | 10 test\n",
            "Curcuma Domestica (Kunyit): 70 train | 20 val | 10 test\n",
            "Zephyranthes Candida (Lili Hujan Putih): 70 train | 20 val | 10 test\n",
            "Dioscorea Hispida (Gadung): 70 train | 20 val | 10 test\n",
            "Euodia Suaveolens (Zodia): 70 train | 20 val | 10 test\n",
            "Ricinus Communis (Jarak): 70 train | 20 val | 10 test\n",
            "Andrographis Paniculata (Sambiloto): 70 train | 20 val | 10 test\n",
            "Kaempferia Galanga (Kencur): 70 train | 20 val | 10 test\n",
            "Aloe Vera (Lidah Buaya): 70 train | 20 val | 10 test\n",
            "Merremia Mammosa (Bidara): 70 train | 20 val | 10 test\n",
            "Melissa officinalis (Lemon Balm): 70 train | 20 val | 10 test\n",
            "Ficus Septica (Awar-Awar): 70 train | 20 val | 10 test\n",
            "Muraya Paniculata (Kemuning): 70 train | 20 val | 10 test\n",
            "Acorus Calamus (Dlingo): 70 train | 20 val | 10 test\n",
            "Clinalanthus Nutans (Dandang Gendis): 70 train | 20 val | 10 test\n",
            "Borreria Hispida (Gempur Batu): 70 train | 20 val | 10 test\n",
            "Jasminum Sambac (Melati): 70 train | 20 val | 10 test\n",
            "Morinda Citrifolia (Mengkudu): 70 train | 20 val | 10 test\n",
            "Raulvolvia Serpentina (Pule Pandak): 70 train | 20 val | 10 test\n",
            "Nepeta Cataria (Catnip): 70 train | 20 val | 10 test\n",
            "Jatropa Multifida (Betadin): 70 train | 20 val | 10 test\n",
            "Plumbago Zeylanica (Daun Encok): 70 train | 20 val | 10 test\n",
            "Tithonia Diversifolia (Daun Insulin): 70 train | 20 val | 10 test\n",
            "Training:   7,000 gambar (70.0%)\n",
            "Validation: 2,000 gambar (20.0%)\n",
            "Testing:    1,000 gambar (10.0%)\n",
            "Total:      10,000 gambar\n",
            "\n",
            "Struktur dataset berhasil dibuat di: /content/splitted-dataset\n",
            "\n",
            "Rasio optimal untuk deep learning:\n",
            "   • Train: ~70% (untuk pembelajaran)\n",
            "   • Validation: ~20% (untuk tuning hyperparameter)\n",
            "   • Test: ~10% (untuk evaluasi final)\n"
          ]
        }
      ],
      "source": [
        "import os\n",
        "import shutil\n",
        "from sklearn.model_selection import train_test_split\n",
        "\n",
        "base_dir = '/content/Indonesia-Medicinal-Plant-Dataset'\n",
        "output_dir = '/content/splitted-dataset'\n",
        "os.makedirs(output_dir, exist_ok=True)\n",
        "\n",
        "train_dir = os.path.join(output_dir, 'train')\n",
        "test_dir = os.path.join(output_dir, 'test')\n",
        "val_dir = os.path.join(output_dir, 'val')\n",
        "os.makedirs(train_dir, exist_ok=True)\n",
        "os.makedirs(test_dir, exist_ok=True)\n",
        "os.makedirs(val_dir, exist_ok=True)\n",
        "\n",
        "class_folders = [d for d in os.listdir(base_dir) if os.path.isdir(os.path.join(base_dir, d))]\n",
        "\n",
        "total_files = 0\n",
        "class_stats = []\n",
        "\n",
        "for class_name in class_folders:\n",
        "    source_folder = os.path.join(base_dir, class_name)\n",
        "    all_files = [os.path.join(source_folder, f) for f in os.listdir(source_folder)\n",
        "                 if f.lower().endswith(('.jpg', '.jpeg', '.png'))]\n",
        "\n",
        "    if len(all_files) == 0:\n",
        "        print(f\"Tidak ada gambar di kelas: {class_name}\")\n",
        "        continue\n",
        "\n",
        "    # Rasio optimal: 70% train, 20% val, 10% test\n",
        "    # Pertama split 70% train, 30% temp\n",
        "    train_files, temp_files = train_test_split(all_files, test_size=0.3,\n",
        "                                             random_state=42, stratify=None)\n",
        "\n",
        "    # Lalu split temp 30% menjadi 20% val dan 10% test\n",
        "    val_files, test_files = train_test_split(temp_files, test_size=0.33,\n",
        "                                           random_state=42, stratify=None)\n",
        "\n",
        "    # Buat folder untuk setiap kelas\n",
        "    os.makedirs(os.path.join(train_dir, class_name), exist_ok=True)\n",
        "    os.makedirs(os.path.join(test_dir, class_name), exist_ok=True)\n",
        "    os.makedirs(os.path.join(val_dir, class_name), exist_ok=True)\n",
        "\n",
        "    # Copy files ke folder masing-masing\n",
        "    for file in train_files:\n",
        "        shutil.copy(file, os.path.join(train_dir, class_name, os.path.basename(file)))\n",
        "\n",
        "    for file in test_files:\n",
        "        shutil.copy(file, os.path.join(test_dir, class_name, os.path.basename(file)))\n",
        "\n",
        "    for file in val_files:\n",
        "        shutil.copy(file, os.path.join(val_dir, class_name, os.path.basename(file)))\n",
        "\n",
        "    # Statistik per kelas\n",
        "    total_files += len(all_files)\n",
        "    class_stats.append({\n",
        "        'class': class_name,\n",
        "        'total': len(all_files),\n",
        "        'train': len(train_files),\n",
        "        'val': len(val_files),\n",
        "        'test': len(test_files)\n",
        "    })\n",
        "\n",
        "    print(f\"{class_name}: {len(train_files)} train | {len(val_files)} val | {len(test_files)} test\")\n",
        "\n",
        "train_total = sum([stat['train'] for stat in class_stats])\n",
        "val_total = sum([stat['val'] for stat in class_stats])\n",
        "test_total = sum([stat['test'] for stat in class_stats])\n",
        "\n",
        "print(f\"Training:   {train_total:,} gambar ({train_total/total_files*100:.1f}%)\")\n",
        "print(f\"Validation: {val_total:,} gambar ({val_total/total_files*100:.1f}%)\")\n",
        "print(f\"Testing:    {test_total:,} gambar ({test_total/total_files*100:.1f}%)\")\n",
        "print(f\"Total:      {total_files:,} gambar\")\n",
        "\n",
        "print(f\"\\nStruktur dataset berhasil dibuat di: {output_dir}\")\n",
        "print(\"\\nRasio optimal untuk deep learning:\")\n",
        "print(\"   • Train: ~70% (untuk pembelajaran)\")\n",
        "print(\"   • Validation: ~20% (untuk tuning hyperparameter)\")\n",
        "print(\"   • Test: ~10% (untuk evaluasi final)\")"
      ]
    },
    {
      "cell_type": "code",
      "execution_count": null,
      "metadata": {
        "colab": {
          "base_uri": "https://localhost:8080/"
        },
        "id": "3Dtpsn6TKSlG",
        "outputId": "4ad665f8-ae17-431e-a270-29bafa8d28f8"
      },
      "outputs": [
        {
          "name": "stdout",
          "output_type": "stream",
          "text": [
            "Isi folder train: ['Amaranthus Spinosus (Bayam Duri)', 'Piper Sarmentosum (Cabean)', 'Ocimum Americanum (Selasih)', 'Zingiber Zerumbet (Lempuyang Gajah)', 'Cestrum Nocturnum (Sedap Malam)', 'Talinum Triangulare (Som Jawa)', 'Hydrocotyle Sibthorpioides (Semanggi Gunung)', 'Phaleria Macrocarpa (Mahkota Dewa)', 'Calendula Officinalis (Marigold)', 'Selaginella Doederleinii (Paku Rane)', 'Piper Betle (Sirih)', 'Michelia Alba (Kembang Kantil)', 'Olea Europaea (Zaitun)', 'Abelmoschus Esculentus (Okra)', 'Canangium Odoratum (Kenanga)', 'Vetiveria Zizaniodes (Akar Wangi)', 'Pyrus Communis (Pir)', 'Prunus Domestica (Plum)', 'Averrhoa Bilimbi (Belimbing Wuluh)', 'Eupatorium Triplinerve (Prasman)', 'Hibiscus Sabdariffa (Rosela)', 'Alstonia Scholaris (Pulai)', 'Rosmarinus Officinalis (Rosemary)', 'Nothopanax Scutellarium (Mangkokan)', 'Psidium Guajava (Jambu Biji)', 'Desmodium Triquitrum (Daun Duduk)', 'Ruellia Tuberosa (Ceplikan)', 'Mirabilis Jalapa (Bunga Pukul Empat)', 'Plectranthus Scutellarioides (Miana)', 'Hibiscus Rosa-sinensis (Kembang Sepatu)', 'Morus Alba (Murbei)', 'Annona Squamosa (Srikaya)', 'Graptophyllum Pictum (Daun Ungu)', 'Pouteria Caimito (Abiu)', 'Murraya Koenigii (Daun Kari)', 'Melaleuca Leucadendra (Kayu Putih)', 'Caesalpinia Sappan L (Secang)', 'Pandanus Amaryllifolius (Pandan)', 'Ruta Angustifolia (Inggu)', 'Artocarpus Integer (Nangka Cempedak)', 'Phytolacca Americana (Mrico Kepyar)', 'Melia Azedarach (Mindi)', 'Apium Graveolens (Seledri)', 'Blumea Balsamifera (Sembung)', 'Parameria Laevigata (Kayu Rapet)', 'Clitoria Ternatea (Kembang Telang)', 'Vitex Trifolia (Legundi)', 'Euphorbia Tirucalli (Patah Tulang)', 'Gynura Segetum (Daun Dewa)', 'Celosia Cristata (Jengger Ayam)', 'Centella Asiatica (Pegagan)', 'Annona Muricata (Sirsak)', 'Syzygium Polyanthum (Salam)', 'Zingiber Officinale (Jahe)', 'Artocarpus Heterophyllus (Nangka Mini)', 'Euphoria Longan (Kelengkeng)', 'Orthosiphon Spicatus (Kumis Kucing)', 'Derris Elliptica (Tuba)', 'Crinum Asiaticum (Bakung Putih)', 'Peperomia Pellucida (Suruhan)', 'Citrus Amblycarpa (Jeruk Limau)', 'Pleomele Angustifolia (Suji)', 'Ocimum Basilicum (Kemangi)', 'Tinospora Tuberculata (Brotowali)', 'Caladium Cicolor (Keladi)', 'Pogostemon Cablin (Nilam)', 'Pluchea Indica (Beluntas)', 'Cyclea Barbata (Cincau Hijau)', 'Catharanthus Roseus (Tapak Dara)', 'Eleutherine Americana (Bawang Dayak)', 'Physalis Angulata (Ceplukan)', 'Houttoynia Cordata (Amis-Amisan)', 'Ficus Carica (Tin)', 'Impatiens Balsamina (Pacar Air)', 'Anredera Cordifolia (Binahong)', 'Isotoma Longiflora (Ki Tolod)', 'Typhonium Flagelliforme (Keladi Tikus)', 'Cymbopogon Nardus (Serai)', 'Curcuma Domestica (Kunyit)', 'Zephyranthes Candida (Lili Hujan Putih)', 'Dioscorea Hispida (Gadung)', 'Euodia Suaveolens (Zodia)', 'Ricinus Communis (Jarak)', 'Andrographis Paniculata (Sambiloto)', 'Kaempferia Galanga (Kencur)', 'Aloe Vera (Lidah Buaya)', 'Merremia Mammosa (Bidara)', 'Melissa officinalis (Lemon Balm)', 'Ficus Septica (Awar-Awar)', 'Muraya Paniculata (Kemuning)', 'Acorus Calamus (Dlingo)', 'Clinalanthus Nutans (Dandang Gendis)', 'Borreria Hispida (Gempur Batu)', 'Jasminum Sambac (Melati)', 'Morinda Citrifolia (Mengkudu)', 'Raulvolvia Serpentina (Pule Pandak)', 'Nepeta Cataria (Catnip)', 'Jatropa Multifida (Betadin)', 'Plumbago Zeylanica (Daun Encok)', 'Tithonia Diversifolia (Daun Insulin)']\n",
            "Isi folder validation: ['Amaranthus Spinosus (Bayam Duri)', 'Piper Sarmentosum (Cabean)', 'Ocimum Americanum (Selasih)', 'Zingiber Zerumbet (Lempuyang Gajah)', 'Cestrum Nocturnum (Sedap Malam)', 'Talinum Triangulare (Som Jawa)', 'Hydrocotyle Sibthorpioides (Semanggi Gunung)', 'Phaleria Macrocarpa (Mahkota Dewa)', 'Calendula Officinalis (Marigold)', 'Selaginella Doederleinii (Paku Rane)', 'Piper Betle (Sirih)', 'Michelia Alba (Kembang Kantil)', 'Olea Europaea (Zaitun)', 'Abelmoschus Esculentus (Okra)', 'Canangium Odoratum (Kenanga)', 'Vetiveria Zizaniodes (Akar Wangi)', 'Pyrus Communis (Pir)', 'Prunus Domestica (Plum)', 'Averrhoa Bilimbi (Belimbing Wuluh)', 'Eupatorium Triplinerve (Prasman)', 'Hibiscus Sabdariffa (Rosela)', 'Alstonia Scholaris (Pulai)', 'Rosmarinus Officinalis (Rosemary)', 'Nothopanax Scutellarium (Mangkokan)', 'Psidium Guajava (Jambu Biji)', 'Desmodium Triquitrum (Daun Duduk)', 'Ruellia Tuberosa (Ceplikan)', 'Mirabilis Jalapa (Bunga Pukul Empat)', 'Plectranthus Scutellarioides (Miana)', 'Hibiscus Rosa-sinensis (Kembang Sepatu)', 'Morus Alba (Murbei)', 'Annona Squamosa (Srikaya)', 'Graptophyllum Pictum (Daun Ungu)', 'Pouteria Caimito (Abiu)', 'Murraya Koenigii (Daun Kari)', 'Melaleuca Leucadendra (Kayu Putih)', 'Caesalpinia Sappan L (Secang)', 'Pandanus Amaryllifolius (Pandan)', 'Ruta Angustifolia (Inggu)', 'Artocarpus Integer (Nangka Cempedak)', 'Phytolacca Americana (Mrico Kepyar)', 'Melia Azedarach (Mindi)', 'Apium Graveolens (Seledri)', 'Blumea Balsamifera (Sembung)', 'Parameria Laevigata (Kayu Rapet)', 'Clitoria Ternatea (Kembang Telang)', 'Vitex Trifolia (Legundi)', 'Euphorbia Tirucalli (Patah Tulang)', 'Gynura Segetum (Daun Dewa)', 'Celosia Cristata (Jengger Ayam)', 'Centella Asiatica (Pegagan)', 'Annona Muricata (Sirsak)', 'Syzygium Polyanthum (Salam)', 'Zingiber Officinale (Jahe)', 'Artocarpus Heterophyllus (Nangka Mini)', 'Euphoria Longan (Kelengkeng)', 'Orthosiphon Spicatus (Kumis Kucing)', 'Derris Elliptica (Tuba)', 'Crinum Asiaticum (Bakung Putih)', 'Peperomia Pellucida (Suruhan)', 'Citrus Amblycarpa (Jeruk Limau)', 'Pleomele Angustifolia (Suji)', 'Ocimum Basilicum (Kemangi)', 'Tinospora Tuberculata (Brotowali)', 'Caladium Cicolor (Keladi)', 'Pogostemon Cablin (Nilam)', 'Pluchea Indica (Beluntas)', 'Cyclea Barbata (Cincau Hijau)', 'Catharanthus Roseus (Tapak Dara)', 'Eleutherine Americana (Bawang Dayak)', 'Physalis Angulata (Ceplukan)', 'Houttoynia Cordata (Amis-Amisan)', 'Ficus Carica (Tin)', 'Impatiens Balsamina (Pacar Air)', 'Anredera Cordifolia (Binahong)', 'Isotoma Longiflora (Ki Tolod)', 'Typhonium Flagelliforme (Keladi Tikus)', 'Cymbopogon Nardus (Serai)', 'Curcuma Domestica (Kunyit)', 'Zephyranthes Candida (Lili Hujan Putih)', 'Dioscorea Hispida (Gadung)', 'Euodia Suaveolens (Zodia)', 'Ricinus Communis (Jarak)', 'Andrographis Paniculata (Sambiloto)', 'Kaempferia Galanga (Kencur)', 'Aloe Vera (Lidah Buaya)', 'Merremia Mammosa (Bidara)', 'Melissa officinalis (Lemon Balm)', 'Ficus Septica (Awar-Awar)', 'Muraya Paniculata (Kemuning)', 'Acorus Calamus (Dlingo)', 'Clinalanthus Nutans (Dandang Gendis)', 'Borreria Hispida (Gempur Batu)', 'Jasminum Sambac (Melati)', 'Morinda Citrifolia (Mengkudu)', 'Raulvolvia Serpentina (Pule Pandak)', 'Nepeta Cataria (Catnip)', 'Jatropa Multifida (Betadin)', 'Plumbago Zeylanica (Daun Encok)', 'Tithonia Diversifolia (Daun Insulin)']\n",
            "Isi folder test: ['Amaranthus Spinosus (Bayam Duri)', 'Piper Sarmentosum (Cabean)', 'Ocimum Americanum (Selasih)', 'Zingiber Zerumbet (Lempuyang Gajah)', 'Cestrum Nocturnum (Sedap Malam)', 'Talinum Triangulare (Som Jawa)', 'Hydrocotyle Sibthorpioides (Semanggi Gunung)', 'Phaleria Macrocarpa (Mahkota Dewa)', 'Calendula Officinalis (Marigold)', 'Selaginella Doederleinii (Paku Rane)', 'Piper Betle (Sirih)', 'Michelia Alba (Kembang Kantil)', 'Olea Europaea (Zaitun)', 'Abelmoschus Esculentus (Okra)', 'Canangium Odoratum (Kenanga)', 'Vetiveria Zizaniodes (Akar Wangi)', 'Pyrus Communis (Pir)', 'Prunus Domestica (Plum)', 'Averrhoa Bilimbi (Belimbing Wuluh)', 'Eupatorium Triplinerve (Prasman)', 'Hibiscus Sabdariffa (Rosela)', 'Alstonia Scholaris (Pulai)', 'Rosmarinus Officinalis (Rosemary)', 'Nothopanax Scutellarium (Mangkokan)', 'Psidium Guajava (Jambu Biji)', 'Desmodium Triquitrum (Daun Duduk)', 'Ruellia Tuberosa (Ceplikan)', 'Mirabilis Jalapa (Bunga Pukul Empat)', 'Plectranthus Scutellarioides (Miana)', 'Hibiscus Rosa-sinensis (Kembang Sepatu)', 'Morus Alba (Murbei)', 'Annona Squamosa (Srikaya)', 'Graptophyllum Pictum (Daun Ungu)', 'Pouteria Caimito (Abiu)', 'Murraya Koenigii (Daun Kari)', 'Melaleuca Leucadendra (Kayu Putih)', 'Caesalpinia Sappan L (Secang)', 'Pandanus Amaryllifolius (Pandan)', 'Ruta Angustifolia (Inggu)', 'Artocarpus Integer (Nangka Cempedak)', 'Phytolacca Americana (Mrico Kepyar)', 'Melia Azedarach (Mindi)', 'Apium Graveolens (Seledri)', 'Blumea Balsamifera (Sembung)', 'Parameria Laevigata (Kayu Rapet)', 'Clitoria Ternatea (Kembang Telang)', 'Vitex Trifolia (Legundi)', 'Euphorbia Tirucalli (Patah Tulang)', 'Gynura Segetum (Daun Dewa)', 'Celosia Cristata (Jengger Ayam)', 'Centella Asiatica (Pegagan)', 'Annona Muricata (Sirsak)', 'Syzygium Polyanthum (Salam)', 'Zingiber Officinale (Jahe)', 'Artocarpus Heterophyllus (Nangka Mini)', 'Euphoria Longan (Kelengkeng)', 'Orthosiphon Spicatus (Kumis Kucing)', 'Derris Elliptica (Tuba)', 'Crinum Asiaticum (Bakung Putih)', 'Peperomia Pellucida (Suruhan)', 'Citrus Amblycarpa (Jeruk Limau)', 'Pleomele Angustifolia (Suji)', 'Ocimum Basilicum (Kemangi)', 'Tinospora Tuberculata (Brotowali)', 'Caladium Cicolor (Keladi)', 'Pogostemon Cablin (Nilam)', 'Pluchea Indica (Beluntas)', 'Cyclea Barbata (Cincau Hijau)', 'Catharanthus Roseus (Tapak Dara)', 'Eleutherine Americana (Bawang Dayak)', 'Physalis Angulata (Ceplukan)', 'Houttoynia Cordata (Amis-Amisan)', 'Ficus Carica (Tin)', 'Impatiens Balsamina (Pacar Air)', 'Anredera Cordifolia (Binahong)', 'Isotoma Longiflora (Ki Tolod)', 'Typhonium Flagelliforme (Keladi Tikus)', 'Cymbopogon Nardus (Serai)', 'Curcuma Domestica (Kunyit)', 'Zephyranthes Candida (Lili Hujan Putih)', 'Dioscorea Hispida (Gadung)', 'Euodia Suaveolens (Zodia)', 'Ricinus Communis (Jarak)', 'Andrographis Paniculata (Sambiloto)', 'Kaempferia Galanga (Kencur)', 'Aloe Vera (Lidah Buaya)', 'Merremia Mammosa (Bidara)', 'Melissa officinalis (Lemon Balm)', 'Ficus Septica (Awar-Awar)', 'Muraya Paniculata (Kemuning)', 'Acorus Calamus (Dlingo)', 'Clinalanthus Nutans (Dandang Gendis)', 'Borreria Hispida (Gempur Batu)', 'Jasminum Sambac (Melati)', 'Morinda Citrifolia (Mengkudu)', 'Raulvolvia Serpentina (Pule Pandak)', 'Nepeta Cataria (Catnip)', 'Jatropa Multifida (Betadin)', 'Plumbago Zeylanica (Daun Encok)', 'Tithonia Diversifolia (Daun Insulin)']\n"
          ]
        }
      ],
      "source": [
        "import os\n",
        "\n",
        "output_dir = '/content/splitted-dataset'\n",
        "train_dir = os.path.join(output_dir, 'train')\n",
        "test_dir = os.path.join(output_dir, 'test')\n",
        "\n",
        "print(\"Isi folder train:\", os.listdir(train_dir))\n",
        "print(\"Isi folder validation:\", os.listdir(val_dir))\n",
        "print(\"Isi folder test:\", os.listdir(test_dir))"
      ]
    },
    {
      "cell_type": "code",
      "execution_count": null,
      "metadata": {
        "id": "s5abnGqldyQr"
      },
      "outputs": [],
      "source": [
        "train_datagen = ImageDataGenerator(\n",
        "    rescale=1./255,\n",
        "    rotation_range=20,\n",
        "    width_shift_range=0.2,\n",
        "    height_shift_range=0.2,\n",
        "    horizontal_flip=True,\n",
        "    zoom_range=0.2,\n",
        "    fill_mode='nearest'\n",
        ")\n",
        "\n",
        "val_datagen = ImageDataGenerator(rescale=1./255)\n",
        "test_datagen = ImageDataGenerator(rescale=1./255)"
      ]
    },
    {
      "cell_type": "code",
      "execution_count": null,
      "metadata": {
        "colab": {
          "base_uri": "https://localhost:8080/"
        },
        "id": "wdKRp4-Q1op4",
        "outputId": "bdc33a55-8717-455b-8304-afaa1239f4c7"
      },
      "outputs": [
        {
          "name": "stdout",
          "output_type": "stream",
          "text": [
            "Found 7000 images belonging to 100 classes.\n",
            "Found 2000 images belonging to 100 classes.\n",
            "Found 1000 images belonging to 100 classes.\n"
          ]
        }
      ],
      "source": [
        "train_generator = train_datagen.flow_from_directory(\n",
        "    train_dir,\n",
        "    target_size=(150, 150),\n",
        "    batch_size=32,\n",
        "    class_mode='categorical',\n",
        "    shuffle=True\n",
        ")\n",
        "\n",
        "validation_generator = val_datagen.flow_from_directory(\n",
        "    val_dir,\n",
        "    target_size=(150, 150),\n",
        "    batch_size=32,\n",
        "    class_mode='categorical',\n",
        "    shuffle=False\n",
        ")\n",
        "\n",
        "test_generator = test_datagen.flow_from_directory(\n",
        "    test_dir,\n",
        "    target_size=(150, 150),\n",
        "    batch_size=32,\n",
        "    class_mode='categorical',\n",
        "    shuffle=False  #\n",
        ")"
      ]
    },
    {
      "cell_type": "markdown",
      "metadata": {
        "id": "DgPtsKeR3N4y"
      },
      "source": [
        "Berdasarkan rasio optimal dengan masing-masing 100 kelas untuk deep learning diperoleh\n",
        "   • Train: 70% sejumlah 8.000 images\n",
        "   • Validation: 20% sejumlah 2.200 images\n",
        "   • Test: 10% sejumlah 1.600 images"
      ]
    },
    {
      "cell_type": "markdown",
      "metadata": {
        "id": "nc-Ph-oIYAUU"
      },
      "source": [
        "## Modelling"
      ]
    },
    {
      "cell_type": "code",
      "execution_count": null,
      "metadata": {
        "colab": {
          "base_uri": "https://localhost:8080/",
          "height": 600
        },
        "id": "UTwK0t8XYAUU",
        "outputId": "986fed7c-10c4-446e-d1d9-1191732e06db"
      },
      "outputs": [
        {
          "name": "stderr",
          "output_type": "stream",
          "text": [
            "/usr/local/lib/python3.11/dist-packages/keras/src/layers/convolutional/base_conv.py:107: UserWarning: Do not pass an `input_shape`/`input_dim` argument to a layer. When using Sequential models, prefer using an `Input(shape)` object as the first layer in the model instead.\n",
            "  super().__init__(activity_regularizer=activity_regularizer, **kwargs)\n"
          ]
        },
        {
          "data": {
            "text/html": [
              "<pre style=\"white-space:pre;overflow-x:auto;line-height:normal;font-family:Menlo,'DejaVu Sans Mono',consolas,'Courier New',monospace\"><span style=\"font-weight: bold\">Model: \"sequential\"</span>\n",
              "</pre>\n"
            ],
            "text/plain": [
              "\u001b[1mModel: \"sequential\"\u001b[0m\n"
            ]
          },
          "metadata": {},
          "output_type": "display_data"
        },
        {
          "data": {
            "text/html": [
              "<pre style=\"white-space:pre;overflow-x:auto;line-height:normal;font-family:Menlo,'DejaVu Sans Mono',consolas,'Courier New',monospace\">┏━━━━━━━━━━━━━━━━━━━━━━━━━━━━━━━━━┳━━━━━━━━━━━━━━━━━━━━━━━━┳━━━━━━━━━━━━━━━┓\n",
              "┃<span style=\"font-weight: bold\"> Layer (type)                    </span>┃<span style=\"font-weight: bold\"> Output Shape           </span>┃<span style=\"font-weight: bold\">       Param # </span>┃\n",
              "┡━━━━━━━━━━━━━━━━━━━━━━━━━━━━━━━━━╇━━━━━━━━━━━━━━━━━━━━━━━━╇━━━━━━━━━━━━━━━┩\n",
              "│ conv2d (<span style=\"color: #0087ff; text-decoration-color: #0087ff\">Conv2D</span>)                 │ (<span style=\"color: #00d7ff; text-decoration-color: #00d7ff\">None</span>, <span style=\"color: #00af00; text-decoration-color: #00af00\">148</span>, <span style=\"color: #00af00; text-decoration-color: #00af00\">148</span>, <span style=\"color: #00af00; text-decoration-color: #00af00\">32</span>)   │           <span style=\"color: #00af00; text-decoration-color: #00af00\">896</span> │\n",
              "├─────────────────────────────────┼────────────────────────┼───────────────┤\n",
              "│ max_pooling2d (<span style=\"color: #0087ff; text-decoration-color: #0087ff\">MaxPooling2D</span>)    │ (<span style=\"color: #00d7ff; text-decoration-color: #00d7ff\">None</span>, <span style=\"color: #00af00; text-decoration-color: #00af00\">74</span>, <span style=\"color: #00af00; text-decoration-color: #00af00\">74</span>, <span style=\"color: #00af00; text-decoration-color: #00af00\">32</span>)     │             <span style=\"color: #00af00; text-decoration-color: #00af00\">0</span> │\n",
              "├─────────────────────────────────┼────────────────────────┼───────────────┤\n",
              "│ conv2d_1 (<span style=\"color: #0087ff; text-decoration-color: #0087ff\">Conv2D</span>)               │ (<span style=\"color: #00d7ff; text-decoration-color: #00d7ff\">None</span>, <span style=\"color: #00af00; text-decoration-color: #00af00\">72</span>, <span style=\"color: #00af00; text-decoration-color: #00af00\">72</span>, <span style=\"color: #00af00; text-decoration-color: #00af00\">64</span>)     │        <span style=\"color: #00af00; text-decoration-color: #00af00\">18,496</span> │\n",
              "├─────────────────────────────────┼────────────────────────┼───────────────┤\n",
              "│ max_pooling2d_1 (<span style=\"color: #0087ff; text-decoration-color: #0087ff\">MaxPooling2D</span>)  │ (<span style=\"color: #00d7ff; text-decoration-color: #00d7ff\">None</span>, <span style=\"color: #00af00; text-decoration-color: #00af00\">36</span>, <span style=\"color: #00af00; text-decoration-color: #00af00\">36</span>, <span style=\"color: #00af00; text-decoration-color: #00af00\">64</span>)     │             <span style=\"color: #00af00; text-decoration-color: #00af00\">0</span> │\n",
              "├─────────────────────────────────┼────────────────────────┼───────────────┤\n",
              "│ conv2d_2 (<span style=\"color: #0087ff; text-decoration-color: #0087ff\">Conv2D</span>)               │ (<span style=\"color: #00d7ff; text-decoration-color: #00d7ff\">None</span>, <span style=\"color: #00af00; text-decoration-color: #00af00\">34</span>, <span style=\"color: #00af00; text-decoration-color: #00af00\">34</span>, <span style=\"color: #00af00; text-decoration-color: #00af00\">128</span>)    │        <span style=\"color: #00af00; text-decoration-color: #00af00\">73,856</span> │\n",
              "├─────────────────────────────────┼────────────────────────┼───────────────┤\n",
              "│ max_pooling2d_2 (<span style=\"color: #0087ff; text-decoration-color: #0087ff\">MaxPooling2D</span>)  │ (<span style=\"color: #00d7ff; text-decoration-color: #00d7ff\">None</span>, <span style=\"color: #00af00; text-decoration-color: #00af00\">17</span>, <span style=\"color: #00af00; text-decoration-color: #00af00\">17</span>, <span style=\"color: #00af00; text-decoration-color: #00af00\">128</span>)    │             <span style=\"color: #00af00; text-decoration-color: #00af00\">0</span> │\n",
              "├─────────────────────────────────┼────────────────────────┼───────────────┤\n",
              "│ conv2d_3 (<span style=\"color: #0087ff; text-decoration-color: #0087ff\">Conv2D</span>)               │ (<span style=\"color: #00d7ff; text-decoration-color: #00d7ff\">None</span>, <span style=\"color: #00af00; text-decoration-color: #00af00\">15</span>, <span style=\"color: #00af00; text-decoration-color: #00af00\">15</span>, <span style=\"color: #00af00; text-decoration-color: #00af00\">256</span>)    │       <span style=\"color: #00af00; text-decoration-color: #00af00\">295,168</span> │\n",
              "├─────────────────────────────────┼────────────────────────┼───────────────┤\n",
              "│ max_pooling2d_3 (<span style=\"color: #0087ff; text-decoration-color: #0087ff\">MaxPooling2D</span>)  │ (<span style=\"color: #00d7ff; text-decoration-color: #00d7ff\">None</span>, <span style=\"color: #00af00; text-decoration-color: #00af00\">7</span>, <span style=\"color: #00af00; text-decoration-color: #00af00\">7</span>, <span style=\"color: #00af00; text-decoration-color: #00af00\">256</span>)      │             <span style=\"color: #00af00; text-decoration-color: #00af00\">0</span> │\n",
              "├─────────────────────────────────┼────────────────────────┼───────────────┤\n",
              "│ flatten (<span style=\"color: #0087ff; text-decoration-color: #0087ff\">Flatten</span>)               │ (<span style=\"color: #00d7ff; text-decoration-color: #00d7ff\">None</span>, <span style=\"color: #00af00; text-decoration-color: #00af00\">12544</span>)          │             <span style=\"color: #00af00; text-decoration-color: #00af00\">0</span> │\n",
              "├─────────────────────────────────┼────────────────────────┼───────────────┤\n",
              "│ dropout (<span style=\"color: #0087ff; text-decoration-color: #0087ff\">Dropout</span>)               │ (<span style=\"color: #00d7ff; text-decoration-color: #00d7ff\">None</span>, <span style=\"color: #00af00; text-decoration-color: #00af00\">12544</span>)          │             <span style=\"color: #00af00; text-decoration-color: #00af00\">0</span> │\n",
              "├─────────────────────────────────┼────────────────────────┼───────────────┤\n",
              "│ dense (<span style=\"color: #0087ff; text-decoration-color: #0087ff\">Dense</span>)                   │ (<span style=\"color: #00d7ff; text-decoration-color: #00d7ff\">None</span>, <span style=\"color: #00af00; text-decoration-color: #00af00\">512</span>)            │     <span style=\"color: #00af00; text-decoration-color: #00af00\">6,423,040</span> │\n",
              "├─────────────────────────────────┼────────────────────────┼───────────────┤\n",
              "│ dropout_1 (<span style=\"color: #0087ff; text-decoration-color: #0087ff\">Dropout</span>)             │ (<span style=\"color: #00d7ff; text-decoration-color: #00d7ff\">None</span>, <span style=\"color: #00af00; text-decoration-color: #00af00\">512</span>)            │             <span style=\"color: #00af00; text-decoration-color: #00af00\">0</span> │\n",
              "├─────────────────────────────────┼────────────────────────┼───────────────┤\n",
              "│ dense_1 (<span style=\"color: #0087ff; text-decoration-color: #0087ff\">Dense</span>)                 │ (<span style=\"color: #00d7ff; text-decoration-color: #00d7ff\">None</span>, <span style=\"color: #00af00; text-decoration-color: #00af00\">100</span>)            │        <span style=\"color: #00af00; text-decoration-color: #00af00\">51,300</span> │\n",
              "└─────────────────────────────────┴────────────────────────┴───────────────┘\n",
              "</pre>\n"
            ],
            "text/plain": [
              "┏━━━━━━━━━━━━━━━━━━━━━━━━━━━━━━━━━┳━━━━━━━━━━━━━━━━━━━━━━━━┳━━━━━━━━━━━━━━━┓\n",
              "┃\u001b[1m \u001b[0m\u001b[1mLayer (type)                   \u001b[0m\u001b[1m \u001b[0m┃\u001b[1m \u001b[0m\u001b[1mOutput Shape          \u001b[0m\u001b[1m \u001b[0m┃\u001b[1m \u001b[0m\u001b[1m      Param #\u001b[0m\u001b[1m \u001b[0m┃\n",
              "┡━━━━━━━━━━━━━━━━━━━━━━━━━━━━━━━━━╇━━━━━━━━━━━━━━━━━━━━━━━━╇━━━━━━━━━━━━━━━┩\n",
              "│ conv2d (\u001b[38;5;33mConv2D\u001b[0m)                 │ (\u001b[38;5;45mNone\u001b[0m, \u001b[38;5;34m148\u001b[0m, \u001b[38;5;34m148\u001b[0m, \u001b[38;5;34m32\u001b[0m)   │           \u001b[38;5;34m896\u001b[0m │\n",
              "├─────────────────────────────────┼────────────────────────┼───────────────┤\n",
              "│ max_pooling2d (\u001b[38;5;33mMaxPooling2D\u001b[0m)    │ (\u001b[38;5;45mNone\u001b[0m, \u001b[38;5;34m74\u001b[0m, \u001b[38;5;34m74\u001b[0m, \u001b[38;5;34m32\u001b[0m)     │             \u001b[38;5;34m0\u001b[0m │\n",
              "├─────────────────────────────────┼────────────────────────┼───────────────┤\n",
              "│ conv2d_1 (\u001b[38;5;33mConv2D\u001b[0m)               │ (\u001b[38;5;45mNone\u001b[0m, \u001b[38;5;34m72\u001b[0m, \u001b[38;5;34m72\u001b[0m, \u001b[38;5;34m64\u001b[0m)     │        \u001b[38;5;34m18,496\u001b[0m │\n",
              "├─────────────────────────────────┼────────────────────────┼───────────────┤\n",
              "│ max_pooling2d_1 (\u001b[38;5;33mMaxPooling2D\u001b[0m)  │ (\u001b[38;5;45mNone\u001b[0m, \u001b[38;5;34m36\u001b[0m, \u001b[38;5;34m36\u001b[0m, \u001b[38;5;34m64\u001b[0m)     │             \u001b[38;5;34m0\u001b[0m │\n",
              "├─────────────────────────────────┼────────────────────────┼───────────────┤\n",
              "│ conv2d_2 (\u001b[38;5;33mConv2D\u001b[0m)               │ (\u001b[38;5;45mNone\u001b[0m, \u001b[38;5;34m34\u001b[0m, \u001b[38;5;34m34\u001b[0m, \u001b[38;5;34m128\u001b[0m)    │        \u001b[38;5;34m73,856\u001b[0m │\n",
              "├─────────────────────────────────┼────────────────────────┼───────────────┤\n",
              "│ max_pooling2d_2 (\u001b[38;5;33mMaxPooling2D\u001b[0m)  │ (\u001b[38;5;45mNone\u001b[0m, \u001b[38;5;34m17\u001b[0m, \u001b[38;5;34m17\u001b[0m, \u001b[38;5;34m128\u001b[0m)    │             \u001b[38;5;34m0\u001b[0m │\n",
              "├─────────────────────────────────┼────────────────────────┼───────────────┤\n",
              "│ conv2d_3 (\u001b[38;5;33mConv2D\u001b[0m)               │ (\u001b[38;5;45mNone\u001b[0m, \u001b[38;5;34m15\u001b[0m, \u001b[38;5;34m15\u001b[0m, \u001b[38;5;34m256\u001b[0m)    │       \u001b[38;5;34m295,168\u001b[0m │\n",
              "├─────────────────────────────────┼────────────────────────┼───────────────┤\n",
              "│ max_pooling2d_3 (\u001b[38;5;33mMaxPooling2D\u001b[0m)  │ (\u001b[38;5;45mNone\u001b[0m, \u001b[38;5;34m7\u001b[0m, \u001b[38;5;34m7\u001b[0m, \u001b[38;5;34m256\u001b[0m)      │             \u001b[38;5;34m0\u001b[0m │\n",
              "├─────────────────────────────────┼────────────────────────┼───────────────┤\n",
              "│ flatten (\u001b[38;5;33mFlatten\u001b[0m)               │ (\u001b[38;5;45mNone\u001b[0m, \u001b[38;5;34m12544\u001b[0m)          │             \u001b[38;5;34m0\u001b[0m │\n",
              "├─────────────────────────────────┼────────────────────────┼───────────────┤\n",
              "│ dropout (\u001b[38;5;33mDropout\u001b[0m)               │ (\u001b[38;5;45mNone\u001b[0m, \u001b[38;5;34m12544\u001b[0m)          │             \u001b[38;5;34m0\u001b[0m │\n",
              "├─────────────────────────────────┼────────────────────────┼───────────────┤\n",
              "│ dense (\u001b[38;5;33mDense\u001b[0m)                   │ (\u001b[38;5;45mNone\u001b[0m, \u001b[38;5;34m512\u001b[0m)            │     \u001b[38;5;34m6,423,040\u001b[0m │\n",
              "├─────────────────────────────────┼────────────────────────┼───────────────┤\n",
              "│ dropout_1 (\u001b[38;5;33mDropout\u001b[0m)             │ (\u001b[38;5;45mNone\u001b[0m, \u001b[38;5;34m512\u001b[0m)            │             \u001b[38;5;34m0\u001b[0m │\n",
              "├─────────────────────────────────┼────────────────────────┼───────────────┤\n",
              "│ dense_1 (\u001b[38;5;33mDense\u001b[0m)                 │ (\u001b[38;5;45mNone\u001b[0m, \u001b[38;5;34m100\u001b[0m)            │        \u001b[38;5;34m51,300\u001b[0m │\n",
              "└─────────────────────────────────┴────────────────────────┴───────────────┘\n"
            ]
          },
          "metadata": {},
          "output_type": "display_data"
        },
        {
          "data": {
            "text/html": [
              "<pre style=\"white-space:pre;overflow-x:auto;line-height:normal;font-family:Menlo,'DejaVu Sans Mono',consolas,'Courier New',monospace\"><span style=\"font-weight: bold\"> Total params: </span><span style=\"color: #00af00; text-decoration-color: #00af00\">6,862,756</span> (26.18 MB)\n",
              "</pre>\n"
            ],
            "text/plain": [
              "\u001b[1m Total params: \u001b[0m\u001b[38;5;34m6,862,756\u001b[0m (26.18 MB)\n"
            ]
          },
          "metadata": {},
          "output_type": "display_data"
        },
        {
          "data": {
            "text/html": [
              "<pre style=\"white-space:pre;overflow-x:auto;line-height:normal;font-family:Menlo,'DejaVu Sans Mono',consolas,'Courier New',monospace\"><span style=\"font-weight: bold\"> Trainable params: </span><span style=\"color: #00af00; text-decoration-color: #00af00\">6,862,756</span> (26.18 MB)\n",
              "</pre>\n"
            ],
            "text/plain": [
              "\u001b[1m Trainable params: \u001b[0m\u001b[38;5;34m6,862,756\u001b[0m (26.18 MB)\n"
            ]
          },
          "metadata": {},
          "output_type": "display_data"
        },
        {
          "data": {
            "text/html": [
              "<pre style=\"white-space:pre;overflow-x:auto;line-height:normal;font-family:Menlo,'DejaVu Sans Mono',consolas,'Courier New',monospace\"><span style=\"font-weight: bold\"> Non-trainable params: </span><span style=\"color: #00af00; text-decoration-color: #00af00\">0</span> (0.00 B)\n",
              "</pre>\n"
            ],
            "text/plain": [
              "\u001b[1m Non-trainable params: \u001b[0m\u001b[38;5;34m0\u001b[0m (0.00 B)\n"
            ]
          },
          "metadata": {},
          "output_type": "display_data"
        }
      ],
      "source": [
        "model = tf.keras.models.Sequential([\n",
        "    tf.keras.layers.Conv2D(32, (3,3), activation='relu', input_shape=(150,150,3)),\n",
        "    tf.keras.layers.MaxPooling2D(2,2),\n",
        "    tf.keras.layers.Conv2D(64, (3,3), activation='relu'),\n",
        "    tf.keras.layers.MaxPooling2D(2,2),\n",
        "    tf.keras.layers.Conv2D(128, (3,3), activation='relu'),\n",
        "    tf.keras.layers.MaxPooling2D(2,2),\n",
        "    tf.keras.layers.Conv2D(256, (3,3), activation='relu'),\n",
        "    tf.keras.layers.MaxPooling2D(2,2),\n",
        "    tf.keras.layers.Flatten(),\n",
        "    tf.keras.layers.Dropout(0.5),\n",
        "    tf.keras.layers.Dense(512, activation='relu'),\n",
        "    tf.keras.layers.Dropout(0.3),\n",
        "    tf.keras.layers.Dense(100, activation='softmax')\n",
        "])\n",
        "\n",
        "model.summary()\n",
        "\n",
        "model.compile(\n",
        "    loss='categorical_crossentropy',\n",
        "    optimizer=tf.keras.optimizers.Adam(learning_rate=0.0001),\n",
        "    metrics=['accuracy']\n",
        ")"
      ]
    },
    {
      "cell_type": "markdown",
      "metadata": {
        "id": "veIGQkbg9BZO"
      },
      "source": [
        "Setelah membuat arsitektur dari CNN, kemudian memanggil fungsi compile pada object model, dan tentukan loss function serta optimizer.\n",
        "\n",
        "compile model dengan optimizer = 'Adam' dan loss function = 'categorical_crossentropy'"
      ]
    },
    {
      "cell_type": "code",
      "execution_count": null,
      "metadata": {
        "colab": {
          "background_save": true,
          "base_uri": "https://localhost:8080/"
        },
        "id": "d4-RUMjd8LVO",
        "outputId": "cc7efc0d-2f5f-40b4-c395-437e7bf63049"
      },
      "outputs": [
        {
          "name": "stderr",
          "output_type": "stream",
          "text": [
            "/usr/local/lib/python3.11/dist-packages/keras/src/trainers/data_adapters/py_dataset_adapter.py:121: UserWarning: Your `PyDataset` class should call `super().__init__(**kwargs)` in its constructor. `**kwargs` can include `workers`, `use_multiprocessing`, `max_queue_size`. Do not pass these arguments to `fit()`, as they will be ignored.\n",
            "  self._warn_if_super_not_called()\n"
          ]
        },
        {
          "name": "stdout",
          "output_type": "stream",
          "text": [
            "Epoch 1/50\n",
            "\u001b[1m219/219\u001b[0m \u001b[32m━━━━━━━━━━━━━━━━━━━━\u001b[0m\u001b[37m\u001b[0m \u001b[1m428s\u001b[0m 2s/step - accuracy: 0.0106 - loss: 4.5991 - val_accuracy: 0.0445 - val_loss: 4.2820\n",
            "Epoch 2/50\n",
            "\u001b[1m219/219\u001b[0m \u001b[32m━━━━━━━━━━━━━━━━━━━━\u001b[0m\u001b[37m\u001b[0m \u001b[1m442s\u001b[0m 2s/step - accuracy: 0.0515 - loss: 4.2409 - val_accuracy: 0.0875 - val_loss: 3.9670\n",
            "Epoch 3/50\n",
            "\u001b[1m219/219\u001b[0m \u001b[32m━━━━━━━━━━━━━━━━━━━━\u001b[0m\u001b[37m\u001b[0m \u001b[1m426s\u001b[0m 2s/step - accuracy: 0.0671 - loss: 4.0305 - val_accuracy: 0.1280 - val_loss: 3.7142\n",
            "Epoch 4/50\n",
            "\u001b[1m219/219\u001b[0m \u001b[32m━━━━━━━━━━━━━━━━━━━━\u001b[0m\u001b[37m\u001b[0m \u001b[1m443s\u001b[0m 2s/step - accuracy: 0.0908 - loss: 3.8457 - val_accuracy: 0.1390 - val_loss: 3.6165\n",
            "Epoch 5/50\n",
            "\u001b[1m219/219\u001b[0m \u001b[32m━━━━━━━━━━━━━━━━━━━━\u001b[0m\u001b[37m\u001b[0m \u001b[1m415s\u001b[0m 2s/step - accuracy: 0.1253 - loss: 3.6925 - val_accuracy: 0.1625 - val_loss: 3.4485\n",
            "Epoch 6/50\n",
            "\u001b[1m219/219\u001b[0m \u001b[32m━━━━━━━━━━━━━━━━━━━━\u001b[0m\u001b[37m\u001b[0m \u001b[1m418s\u001b[0m 2s/step - accuracy: 0.1320 - loss: 3.6213 - val_accuracy: 0.1780 - val_loss: 3.3648\n",
            "Epoch 7/50\n",
            "\u001b[1m219/219\u001b[0m \u001b[32m━━━━━━━━━━━━━━━━━━━━\u001b[0m\u001b[37m\u001b[0m \u001b[1m438s\u001b[0m 2s/step - accuracy: 0.1539 - loss: 3.5083 - val_accuracy: 0.2130 - val_loss: 3.2194\n",
            "Epoch 8/50\n",
            "\u001b[1m219/219\u001b[0m \u001b[32m━━━━━━━━━━━━━━━━━━━━\u001b[0m\u001b[37m\u001b[0m \u001b[1m414s\u001b[0m 2s/step - accuracy: 0.1810 - loss: 3.3667 - val_accuracy: 0.2260 - val_loss: 3.1546\n",
            "Epoch 9/50\n",
            "\u001b[1m219/219\u001b[0m \u001b[32m━━━━━━━━━━━━━━━━━━━━\u001b[0m\u001b[37m\u001b[0m \u001b[1m411s\u001b[0m 2s/step - accuracy: 0.1843 - loss: 3.2930 - val_accuracy: 0.2180 - val_loss: 3.1463\n",
            "Epoch 10/50\n",
            "\u001b[1m219/219\u001b[0m \u001b[32m━━━━━━━━━━━━━━━━━━━━\u001b[0m\u001b[37m\u001b[0m \u001b[1m439s\u001b[0m 2s/step - accuracy: 0.2002 - loss: 3.2213 - val_accuracy: 0.2770 - val_loss: 2.9190\n",
            "Epoch 11/50\n",
            "\u001b[1m219/219\u001b[0m \u001b[32m━━━━━━━━━━━━━━━━━━━━\u001b[0m\u001b[37m\u001b[0m \u001b[1m409s\u001b[0m 2s/step - accuracy: 0.2260 - loss: 3.1281 - val_accuracy: 0.2600 - val_loss: 2.9414\n",
            "Epoch 12/50\n",
            "\u001b[1m219/219\u001b[0m \u001b[32m━━━━━━━━━━━━━━━━━━━━\u001b[0m\u001b[37m\u001b[0m \u001b[1m413s\u001b[0m 2s/step - accuracy: 0.2391 - loss: 3.0581 - val_accuracy: 0.2845 - val_loss: 2.8894\n",
            "Epoch 13/50\n",
            "\u001b[1m219/219\u001b[0m \u001b[32m━━━━━━━━━━━━━━━━━━━━\u001b[0m\u001b[37m\u001b[0m \u001b[1m454s\u001b[0m 2s/step - accuracy: 0.2487 - loss: 2.9933 - val_accuracy: 0.2855 - val_loss: 2.8393\n",
            "Epoch 14/50\n",
            "\u001b[1m219/219\u001b[0m \u001b[32m━━━━━━━━━━━━━━━━━━━━\u001b[0m\u001b[37m\u001b[0m \u001b[1m440s\u001b[0m 2s/step - accuracy: 0.2370 - loss: 2.9904 - val_accuracy: 0.3090 - val_loss: 2.7387\n",
            "Epoch 15/50\n",
            "\u001b[1m219/219\u001b[0m \u001b[32m━━━━━━━━━━━━━━━━━━━━\u001b[0m\u001b[37m\u001b[0m \u001b[1m410s\u001b[0m 2s/step - accuracy: 0.2758 - loss: 2.8944 - val_accuracy: 0.3060 - val_loss: 2.7539\n",
            "Epoch 16/50\n",
            "\u001b[1m219/219\u001b[0m \u001b[32m━━━━━━━━━━━━━━━━━━━━\u001b[0m\u001b[37m\u001b[0m \u001b[1m413s\u001b[0m 2s/step - accuracy: 0.2762 - loss: 2.8277 - val_accuracy: 0.2930 - val_loss: 2.8103\n",
            "Epoch 17/50\n",
            "\u001b[1m204/219\u001b[0m \u001b[32m━━━━━━━━━━━━━━━━━━\u001b[0m\u001b[37m━━\u001b[0m \u001b[1m26s\u001b[0m 2s/step - accuracy: 0.3021 - loss: 2.7576"
          ]
        }
      ],
      "source": [
        "history = model.fit(\n",
        "    train_generator,\n",
        "    steps_per_epoch=len(train_generator),\n",
        "    epochs=50,\n",
        "    validation_data=validation_generator,\n",
        "    validation_steps=len(validation_generator),\n",
        "    verbose=1,\n",
        "    callbacks=callbacks\n",
        ")"
      ]
    },
    {
      "cell_type": "markdown",
      "metadata": {
        "id": "XctzCfzbYCBK"
      },
      "source": [
        "## Evaluasi dan Visualisasi"
      ]
    },
    {
      "cell_type": "code",
      "execution_count": null,
      "metadata": {
        "colab": {
          "base_uri": "https://localhost:8080/",
          "height": 699
        },
        "id": "EKk-ScZWYCBK",
        "outputId": "8bb7a71f-343a-4fca-bc49-7a2f8e3c7b8d"
      },
      "outputs": [
        {
          "data": {
            "image/png": "[encoded data removed]",
            "text/plain": [
              "<Figure size 1200x800 with 2 Axes>"
            ]
          },
          "metadata": {},
          "output_type": "display_data"
        }
      ],
      "source": [
        "# Add this code after model.fit()\n",
        "acc = history.history['accuracy']\n",
        "val_acc = history.history['val_accuracy']\n",
        "loss = history.history['loss']\n",
        "val_loss = history.history['val_loss']\n",
        "\n",
        "epochs_range = range(len(acc))\n",
        "\n",
        "plt.figure(figsize=(12, 8))\n",
        "plt.subplot(1, 2, 1)\n",
        "plt.plot(epochs_range, acc, label='Training Accuracy')\n",
        "plt.plot(epochs_range, val_acc, label='Validation Accuracy')\n",
        "plt.legend(loc='lower right')\n",
        "plt.title('Training and Validation Accuracy')\n",
        "\n",
        "plt.subplot(1, 2, 2)\n",
        "plt.plot(epochs_range, loss, label='Training Loss')\n",
        "plt.plot(epochs_range, val_loss, label='Validation Loss')\n",
        "plt.legend(loc='upper right')\n",
        "plt.title('Training and Validation Loss')\n",
        "plt.show()"
      ]
    },
    {
      "cell_type": "markdown",
      "metadata": {
        "id": "y_fIsUogYFSk"
      },
      "source": [
        "## Konversi Model"
      ]
    },
    {
      "cell_type": "code",
      "execution_count": null,
      "metadata": {
        "id": "hGeESYYC8VP4"
      },
      "outputs": [],
      "source": []
    },
    {
      "cell_type": "markdown",
      "metadata": {
        "id": "8DbfEwvvm5U4"
      },
      "source": [
        "## Inference (Optional)"
      ]
    },
    {
      "cell_type": "code",
      "execution_count": null,
      "metadata": {
        "id": "ue5esMSSm8GQ"
      },
      "outputs": [],
      "source": []
    }
  ],
  "metadata": {
    "accelerator": "TPU",
    "colab": {
      "gpuType": "V28",
      "provenance": [],
      "include_colab_link": true
    },
    "kernelspec": {
      "display_name": "Python 3",
      "name": "python3"
    },
    "language_info": {
      "name": "python"
    }
  },
  "nbformat": 4,
  "nbformat_minor": 0
}